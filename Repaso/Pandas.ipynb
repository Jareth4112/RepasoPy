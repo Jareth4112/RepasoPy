{
 "cells": [
  {
   "cell_type": "markdown",
   "id": "c809ba9f",
   "metadata": {},
   "source": [
    "<img src='https://2.bp.blogspot.com/--t860ysZGE8/UVrWA6nO3LI/AAAAAAAAAvg/9oaDmYmD4Fo/s1600/regular-expressions-cheat-sheet.png' alt='Regular Expressions Cheat Sheet'>"
   ]
  },
  {
   "cell_type": "code",
   "execution_count": 16,
   "id": "11b43b18",
   "metadata": {},
   "outputs": [],
   "source": [
    "import pandas as pd\n",
    "import os \n",
    "import pymupdf as pdf\n",
    "import regex as re"
   ]
  },
  {
   "cell_type": "code",
   "execution_count": null,
   "id": "4733b880",
   "metadata": {},
   "outputs": [
    {
     "name": "stdout",
     "output_type": "stream",
     "text": [
      "['Phone', ' 51 1 213 0300']\n",
      "['Phone', ' 51 1 708 5900']\n",
      "['Phone', ' 972-940-6000']\n",
      "['Phone', ' 34 91 581 23 18']\n",
      "['Phone', ' 51 1518 4000']\n"
     ]
    }
   ],
   "source": [
    "carpeta_pdfs = r'c:\\Users\\jaret\\Desktop\\Portafolio\\Python\\Extraer_datos\\PDFs'\n",
    "base_splits = []\n",
    "for archivo in os.listdir(carpeta_pdfs):\n",
    "    if archivo.endswith(\".pdf\"):\n",
    "        ruta_pdf = os.path.join(carpeta_pdfs, archivo)\n",
    "        doc = pdf.open(ruta_pdf)\n",
    "        texto_completo = \"\"\n",
    "        for pagina in doc:\n",
    "            texto_completo += pagina.get_text()\n",
    "        for line in texto_completo.splitlines():\n",
    "            number = None\n",
    "            n_emp = None\n",
    "            if re.search('^D.*:', line):\n",
    "                date = line.split(':')\n",
    "                date = date[1]\n",
    "            if not line.startswith('Phone:'):\n",
    "                continue\n",
    "            number = line.split(':')\n",
    "            name_arch  = re.match(r'^([A-Z][a-z]+)+', archivo)\n",
    "            name_arch = name_arch.group()\n",
    "            base_splits.append({'Type': number[0].strip(), \n",
    "                                'Contact': number[1].strip(), \n",
    "                                'Archivo': archivo.strip(), \n",
    "                                'Empresa': name_arch.strip(), \n",
    "                                'Date': date})\n",
    "            print(number)"
   ]
  },
  {
   "cell_type": "code",
   "execution_count": 50,
   "id": "ef6b661a",
   "metadata": {},
   "outputs": [
    {
     "data": {
      "text/plain": [
       "[{'Type': 'Phone',\n",
       "  'Contact': '51 1 213 0300',\n",
       "  'Archivo': 'AenzaSAABVLAENZAC1_PublicCompany.pdf',\n",
       "  'Empresa': 'Aenza',\n",
       "  'Date': ' Jun-30-2025'},\n",
       " {'Type': 'Phone',\n",
       "  'Contact': '51 1 708 5900',\n",
       "  'Archivo': 'AustralGroupSAABVLAUSTRAC1_PublicCompany (1).pdf',\n",
       "  'Empresa': 'AustralGroup',\n",
       "  'Date': ' Jun-09-2025'},\n",
       " {'Type': 'Phone',\n",
       "  'Contact': '972-940-6000',\n",
       "  'Archivo': 'ExxonMobilCorporationNYSEXOM_PublicCompany.pdf',\n",
       "  'Empresa': 'ExxonMobilCorporation',\n",
       "  'Date': ' Jun-12-2025'},\n",
       " {'Type': 'Phone',\n",
       "  'Contact': '34 91 581 23 18',\n",
       "  'Archivo': 'MapfreSABMEMAP_PublicCompany.pdf',\n",
       "  'Empresa': 'Mapfre',\n",
       "  'Date': ' Jun-10-2025'},\n",
       " {'Type': 'Phone',\n",
       "  'Contact': '51 1518 4000',\n",
       "  'Archivo': 'PacíficoCompañíadeSegurosyReasegurosBVLPACIFIC1_PublicCompany.pdf',\n",
       "  'Empresa': 'Pac',\n",
       "  'Date': ' Jun-30-2025'}]"
      ]
     },
     "execution_count": 50,
     "metadata": {},
     "output_type": "execute_result"
    }
   ],
   "source": [
    "base_splits"
   ]
  },
  {
   "cell_type": "code",
   "execution_count": 64,
   "id": "a630877d",
   "metadata": {},
   "outputs": [
    {
     "data": {
      "application/vnd.microsoft.datawrangler.viewer.v0+json": {
       "columns": [
        {
         "name": "index",
         "rawType": "int64",
         "type": "integer"
        },
        {
         "name": "Type",
         "rawType": "object",
         "type": "string"
        },
        {
         "name": "Contact",
         "rawType": "object",
         "type": "string"
        },
        {
         "name": "Archivo",
         "rawType": "object",
         "type": "string"
        },
        {
         "name": "Empresa",
         "rawType": "object",
         "type": "string"
        },
        {
         "name": "Date",
         "rawType": "datetime64[ns]",
         "type": "datetime"
        }
       ],
       "ref": "a35f779c-285c-429e-bc4a-1f38ca751ed2",
       "rows": [
        [
         "0",
         "Phone",
         "51 1 213 0300",
         "AenzaSAABVLAENZAC1_PublicCompany.pdf",
         "Aenza",
         "2025-06-30 00:00:00"
        ],
        [
         "1",
         "Phone",
         "51 1 708 5900",
         "AustralGroupSAABVLAUSTRAC1_PublicCompany (1).pdf",
         "AustralGroup",
         "2025-06-09 00:00:00"
        ],
        [
         "2",
         "Phone",
         "972-940-6000",
         "ExxonMobilCorporationNYSEXOM_PublicCompany.pdf",
         "ExxonMobilCorporation",
         "2025-06-12 00:00:00"
        ],
        [
         "3",
         "Phone",
         "34 91 581 23 18",
         "MapfreSABMEMAP_PublicCompany.pdf",
         "Mapfre",
         "2025-06-10 00:00:00"
        ],
        [
         "4",
         "Phone",
         "51 1518 4000",
         "PacíficoCompañíadeSegurosyReasegurosBVLPACIFIC1_PublicCompany.pdf",
         "Pac",
         "2025-06-30 00:00:00"
        ]
       ],
       "shape": {
        "columns": 5,
        "rows": 5
       }
      },
      "text/html": [
       "<div>\n",
       "<style scoped>\n",
       "    .dataframe tbody tr th:only-of-type {\n",
       "        vertical-align: middle;\n",
       "    }\n",
       "\n",
       "    .dataframe tbody tr th {\n",
       "        vertical-align: top;\n",
       "    }\n",
       "\n",
       "    .dataframe thead th {\n",
       "        text-align: right;\n",
       "    }\n",
       "</style>\n",
       "<table border=\"1\" class=\"dataframe\">\n",
       "  <thead>\n",
       "    <tr style=\"text-align: right;\">\n",
       "      <th></th>\n",
       "      <th>Type</th>\n",
       "      <th>Contact</th>\n",
       "      <th>Archivo</th>\n",
       "      <th>Empresa</th>\n",
       "      <th>Date</th>\n",
       "    </tr>\n",
       "  </thead>\n",
       "  <tbody>\n",
       "    <tr>\n",
       "      <th>0</th>\n",
       "      <td>Phone</td>\n",
       "      <td>51 1 213 0300</td>\n",
       "      <td>AenzaSAABVLAENZAC1_PublicCompany.pdf</td>\n",
       "      <td>Aenza</td>\n",
       "      <td>2025-06-30</td>\n",
       "    </tr>\n",
       "    <tr>\n",
       "      <th>1</th>\n",
       "      <td>Phone</td>\n",
       "      <td>51 1 708 5900</td>\n",
       "      <td>AustralGroupSAABVLAUSTRAC1_PublicCompany (1).pdf</td>\n",
       "      <td>AustralGroup</td>\n",
       "      <td>2025-06-09</td>\n",
       "    </tr>\n",
       "    <tr>\n",
       "      <th>2</th>\n",
       "      <td>Phone</td>\n",
       "      <td>972-940-6000</td>\n",
       "      <td>ExxonMobilCorporationNYSEXOM_PublicCompany.pdf</td>\n",
       "      <td>ExxonMobilCorporation</td>\n",
       "      <td>2025-06-12</td>\n",
       "    </tr>\n",
       "    <tr>\n",
       "      <th>3</th>\n",
       "      <td>Phone</td>\n",
       "      <td>34 91 581 23 18</td>\n",
       "      <td>MapfreSABMEMAP_PublicCompany.pdf</td>\n",
       "      <td>Mapfre</td>\n",
       "      <td>2025-06-10</td>\n",
       "    </tr>\n",
       "    <tr>\n",
       "      <th>4</th>\n",
       "      <td>Phone</td>\n",
       "      <td>51 1518 4000</td>\n",
       "      <td>PacíficoCompañíadeSegurosyReasegurosBVLPACIFIC...</td>\n",
       "      <td>Pac</td>\n",
       "      <td>2025-06-30</td>\n",
       "    </tr>\n",
       "  </tbody>\n",
       "</table>\n",
       "</div>"
      ],
      "text/plain": [
       "    Type          Contact                                            Archivo  \\\n",
       "0  Phone    51 1 213 0300               AenzaSAABVLAENZAC1_PublicCompany.pdf   \n",
       "1  Phone    51 1 708 5900   AustralGroupSAABVLAUSTRAC1_PublicCompany (1).pdf   \n",
       "2  Phone     972-940-6000     ExxonMobilCorporationNYSEXOM_PublicCompany.pdf   \n",
       "3  Phone  34 91 581 23 18                   MapfreSABMEMAP_PublicCompany.pdf   \n",
       "4  Phone     51 1518 4000  PacíficoCompañíadeSegurosyReasegurosBVLPACIFIC...   \n",
       "\n",
       "                 Empresa       Date  \n",
       "0                  Aenza 2025-06-30  \n",
       "1           AustralGroup 2025-06-09  \n",
       "2  ExxonMobilCorporation 2025-06-12  \n",
       "3                 Mapfre 2025-06-10  \n",
       "4                    Pac 2025-06-30  "
      ]
     },
     "execution_count": 64,
     "metadata": {},
     "output_type": "execute_result"
    }
   ],
   "source": [
    "df_contact = pd.DataFrame(base_splits)\n",
    "df_contact['Date'] = pd.to_datetime(df_contact['Date'])\n",
    "df_contact"
   ]
  },
  {
   "cell_type": "code",
   "execution_count": 67,
   "id": "30dd1bff",
   "metadata": {},
   "outputs": [
    {
     "data": {
      "application/vnd.microsoft.datawrangler.viewer.v0+json": {
       "columns": [
        {
         "name": "index",
         "rawType": "int64",
         "type": "integer"
        },
        {
         "name": "Empresa",
         "rawType": "object",
         "type": "string"
        }
       ],
       "ref": "834f8e80-39ff-4065-8c9f-23b83bc876a1",
       "rows": [
        [
         "1",
         "AustralGroup"
        ],
        [
         "2",
         "ExxonMobilCorporation"
        ]
       ],
       "shape": {
        "columns": 1,
        "rows": 2
       }
      },
      "text/html": [
       "<div>\n",
       "<style scoped>\n",
       "    .dataframe tbody tr th:only-of-type {\n",
       "        vertical-align: middle;\n",
       "    }\n",
       "\n",
       "    .dataframe tbody tr th {\n",
       "        vertical-align: top;\n",
       "    }\n",
       "\n",
       "    .dataframe thead th {\n",
       "        text-align: right;\n",
       "    }\n",
       "</style>\n",
       "<table border=\"1\" class=\"dataframe\">\n",
       "  <thead>\n",
       "    <tr style=\"text-align: right;\">\n",
       "      <th></th>\n",
       "      <th>Empresa</th>\n",
       "    </tr>\n",
       "  </thead>\n",
       "  <tbody>\n",
       "    <tr>\n",
       "      <th>1</th>\n",
       "      <td>AustralGroup</td>\n",
       "    </tr>\n",
       "    <tr>\n",
       "      <th>2</th>\n",
       "      <td>ExxonMobilCorporation</td>\n",
       "    </tr>\n",
       "  </tbody>\n",
       "</table>\n",
       "</div>"
      ],
      "text/plain": [
       "                 Empresa\n",
       "1           AustralGroup\n",
       "2  ExxonMobilCorporation"
      ]
     },
     "execution_count": 67,
     "metadata": {},
     "output_type": "execute_result"
    }
   ],
   "source": [
    "df_iloc = df_contact.iloc[1:3, 3:4]\n",
    "df_iloc"
   ]
  },
  {
   "cell_type": "code",
   "execution_count": 66,
   "id": "9cded4ee",
   "metadata": {},
   "outputs": [
    {
     "data": {
      "application/vnd.microsoft.datawrangler.viewer.v0+json": {
       "columns": [
        {
         "name": "index",
         "rawType": "int64",
         "type": "integer"
        },
        {
         "name": "Type",
         "rawType": "object",
         "type": "string"
        },
        {
         "name": "Contact",
         "rawType": "object",
         "type": "string"
        },
        {
         "name": "Archivo",
         "rawType": "object",
         "type": "string"
        }
       ],
       "ref": "d9837ff7-47a8-48db-8abc-c03508e2fb8d",
       "rows": [
        [
         "2",
         "Phone",
         "972-940-6000",
         "ExxonMobilCorporationNYSEXOM_PublicCompany.pdf"
        ],
        [
         "3",
         "Phone",
         "34 91 581 23 18",
         "MapfreSABMEMAP_PublicCompany.pdf"
        ],
        [
         "4",
         "Phone",
         "51 1518 4000",
         "PacíficoCompañíadeSegurosyReasegurosBVLPACIFIC1_PublicCompany.pdf"
        ]
       ],
       "shape": {
        "columns": 3,
        "rows": 3
       }
      },
      "text/html": [
       "<div>\n",
       "<style scoped>\n",
       "    .dataframe tbody tr th:only-of-type {\n",
       "        vertical-align: middle;\n",
       "    }\n",
       "\n",
       "    .dataframe tbody tr th {\n",
       "        vertical-align: top;\n",
       "    }\n",
       "\n",
       "    .dataframe thead th {\n",
       "        text-align: right;\n",
       "    }\n",
       "</style>\n",
       "<table border=\"1\" class=\"dataframe\">\n",
       "  <thead>\n",
       "    <tr style=\"text-align: right;\">\n",
       "      <th></th>\n",
       "      <th>Type</th>\n",
       "      <th>Contact</th>\n",
       "      <th>Archivo</th>\n",
       "    </tr>\n",
       "  </thead>\n",
       "  <tbody>\n",
       "    <tr>\n",
       "      <th>2</th>\n",
       "      <td>Phone</td>\n",
       "      <td>972-940-6000</td>\n",
       "      <td>ExxonMobilCorporationNYSEXOM_PublicCompany.pdf</td>\n",
       "    </tr>\n",
       "    <tr>\n",
       "      <th>3</th>\n",
       "      <td>Phone</td>\n",
       "      <td>34 91 581 23 18</td>\n",
       "      <td>MapfreSABMEMAP_PublicCompany.pdf</td>\n",
       "    </tr>\n",
       "    <tr>\n",
       "      <th>4</th>\n",
       "      <td>Phone</td>\n",
       "      <td>51 1518 4000</td>\n",
       "      <td>PacíficoCompañíadeSegurosyReasegurosBVLPACIFIC...</td>\n",
       "    </tr>\n",
       "  </tbody>\n",
       "</table>\n",
       "</div>"
      ],
      "text/plain": [
       "    Type          Contact                                            Archivo\n",
       "2  Phone     972-940-6000     ExxonMobilCorporationNYSEXOM_PublicCompany.pdf\n",
       "3  Phone  34 91 581 23 18                   MapfreSABMEMAP_PublicCompany.pdf\n",
       "4  Phone     51 1518 4000  PacíficoCompañíadeSegurosyReasegurosBVLPACIFIC..."
      ]
     },
     "execution_count": 66,
     "metadata": {},
     "output_type": "execute_result"
    }
   ],
   "source": [
    "df_loc = df_contact.loc[2:, 'Type':'Archivo']\n",
    "df_loc"
   ]
  }
 ],
 "metadata": {
  "kernelspec": {
   "display_name": "Python 3",
   "language": "python",
   "name": "python3"
  },
  "language_info": {
   "codemirror_mode": {
    "name": "ipython",
    "version": 3
   },
   "file_extension": ".py",
   "mimetype": "text/x-python",
   "name": "python",
   "nbconvert_exporter": "python",
   "pygments_lexer": "ipython3",
   "version": "3.13.1"
  }
 },
 "nbformat": 4,
 "nbformat_minor": 5
}
