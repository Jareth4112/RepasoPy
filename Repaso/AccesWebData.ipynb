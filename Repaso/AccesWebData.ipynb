{
 "cells": [
  {
   "cell_type": "markdown",
   "id": "fa08459c",
   "metadata": {},
   "source": [
    "## **REGULAR EXPRESSIONS: REGEX**\n",
    "<p style=\"text-align: center;\">\n",
    "<img src=\"image.png\" width=\"600\" height=\"400\">"
   ]
  },
  {
   "cell_type": "code",
   "execution_count": 1,
   "id": "be74e7d1",
   "metadata": {},
   "outputs": [],
   "source": [
    "#Hay que sacar datos de un pdf usando py \n",
    "import os \n",
    "import PyPDF2\n",
    "import pandas as pd\n",
    "from docx import Document\n",
    "import pymupdf as pdf \n",
    "import regex as re"
   ]
  },
  {
   "cell_type": "code",
   "execution_count": 2,
   "id": "1eab62c7",
   "metadata": {},
   "outputs": [
    {
     "name": "stdout",
     "output_type": "stream",
     "text": [
      "Phone: 34 91 581 23 18\n"
     ]
    }
   ],
   "source": [
    "pdf1 = r'c:\\Users\\jaret\\Desktop\\Portafolio\\Python\\Extraer_datos\\PDFs\\MapfreSABMEMAP_PublicCompany.pdf'\n",
    "doc = pdf.open(pdf1)\n",
    "texto_completo = \"\"\n",
    "for pagina in doc:\n",
    "    texto_completo += pagina.get_text()\n",
    "    for line in texto_completo.splitlines():\n",
    "        line = line.strip()\n",
    "        if re.search('Phone:', line):\n",
    "            print(line)"
   ]
  },
  {
   "cell_type": "code",
   "execution_count": 3,
   "id": "90b1e9de",
   "metadata": {},
   "outputs": [
    {
     "data": {
      "text/plain": [
       "list"
      ]
     },
     "execution_count": 3,
     "metadata": {},
     "output_type": "execute_result"
    }
   ],
   "source": [
    "type(texto_completo.splitlines())"
   ]
  },
  {
   "cell_type": "code",
   "execution_count": 4,
   "id": "9e18f22b",
   "metadata": {},
   "outputs": [
    {
     "name": "stdout",
     "output_type": "stream",
     "text": [
      "Aenza S.A.A. (BVL:AENZAC1)\n",
      "Austral Group S.A.A. (BVL:AUSTRAC1)\n",
      "Exxon Mobil Corporation (NYSE:XOM)\n",
      "Mapfre, S.A. (BME:MAP)\n",
      "Pacífico Compañía de Seguros y Reaseguros (BVL:PACIFIC1)\n"
     ]
    }
   ],
   "source": [
    "carpeta_pdfs = r'c:\\Users\\jaret\\Desktop\\Portafolio\\Python\\Extraer_datos\\PDFs'\n",
    "\n",
    "for archivo in os.listdir(carpeta_pdfs):\n",
    "    if archivo.endswith(\".pdf\"):\n",
    "        ruta_pdf = os.path.join(carpeta_pdfs, archivo)\n",
    "        doc = pdf.open(ruta_pdf)\n",
    "        texto_completo = \"\"\n",
    "        for pagina in doc:\n",
    "            texto_completo += pagina.get_text()\n",
    "        lineas = [line.strip() for line in texto_completo.splitlines() if line.strip()]\n",
    "        print(lineas[5])"
   ]
  },
  {
   "cell_type": "code",
   "execution_count": 5,
   "id": "a9fc1bf4",
   "metadata": {},
   "outputs": [
    {
     "name": "stdout",
     "output_type": "stream",
     "text": [
      "Date Created: Jun-30-2025\n",
      "Date Created: Jun-09-2025\n",
      "Date Created: Jun-12-2025\n",
      "Date Created: Jun-10-2025\n",
      "Date Created: Jun-30-2025\n"
     ]
    }
   ],
   "source": [
    "carpeta_pdfs = r'c:\\Users\\jaret\\Desktop\\Portafolio\\Python\\Extraer_datos\\PDFs'\n",
    "\n",
    "for archivo in os.listdir(carpeta_pdfs):\n",
    "    if archivo.endswith(\".pdf\"):\n",
    "        ruta_pdf = os.path.join(carpeta_pdfs, archivo)\n",
    "        doc = pdf.open(ruta_pdf)\n",
    "        texto_completo = \"\"\n",
    "        for pagina in doc:\n",
    "            texto_completo += pagina.get_text()\n",
    "        for line in texto_completo.splitlines():\n",
    "            line = line.strip()\n",
    "            if re.search('^D.*:', line):\n",
    "                print(line)"
   ]
  },
  {
   "cell_type": "code",
   "execution_count": 6,
   "id": "e07c6b62",
   "metadata": {},
   "outputs": [
    {
     "name": "stdout",
     "output_type": "stream",
     "text": [
      "www.aenza.com.pe\n",
      "www.austral.com.pe\n",
      "corporate.exxonmobil.com\n",
      "www.mapfre.com\n",
      "www.pacifico.com.pe\n"
     ]
    }
   ],
   "source": [
    "carpeta_pdfs = r'c:\\Users\\jaret\\Desktop\\Portafolio\\Python\\Extraer_datos\\PDFs'\n",
    "\n",
    "for archivo in os.listdir(carpeta_pdfs):\n",
    "    if archivo.endswith(\".pdf\"):\n",
    "        ruta_pdf = os.path.join(carpeta_pdfs, archivo)\n",
    "        doc = pdf.open(ruta_pdf)\n",
    "        texto_completo = \"\"\n",
    "        for pagina in doc:\n",
    "            texto_completo += pagina.get_text()\n",
    "        for line in texto_completo.splitlines():\n",
    "            line = line.strip()\n",
    "            if re.findall(r'\\.(com|pe)$', line):\n",
    "                print(line)"
   ]
  },
  {
   "cell_type": "markdown",
   "id": "dea63d05",
   "metadata": {},
   "source": [
    "## **HTTP**\n",
    "- Hypertext Transfer Protocol (HTTP) is an application protocol for distributed, collaborative, hypermedia information systems.\n",
    "- URL (Uniform Resource Locator) is the address of a resource on the internet.\n",
    "<p style=\"text-align: center\">\n",
    "<img src=\"image-1.png\" width=\"400\" height=\"100\">\n",
    "</p> "
   ]
  },
  {
   "cell_type": "markdown",
   "id": "ab451600",
   "metadata": {},
   "source": [
    "#### **SOCKETS**\n",
    "- Sockets are endpoints for sending and receiving data across a network."
   ]
  },
  {
   "cell_type": "code",
   "execution_count": 39,
   "id": "48512b27",
   "metadata": {},
   "outputs": [],
   "source": [
    "import socket\n",
    "mysock = socket.socket(socket.AF_INET, socket.SOCK_STREAM)\n",
    "mysock.connect(('data.pr4e.org', 80))"
   ]
  },
  {
   "cell_type": "code",
   "execution_count": null,
   "id": "4833f4e8",
   "metadata": {},
   "outputs": [],
   "source": [
    "cmd = 'GET http://data.pr4e.org/romeo.txt HTTP/1.0\\r\\n\\r\\n'.encode()\n",
    "mysock.send(cmd)\n",
    "\n",
    "while True:\n",
    "    data = mysock.recv(512)\n",
    "    if (len(data)<1):\n",
    "        break\n",
    "    print(data.decode())\n",
    "mysock.close()"
   ]
  },
  {
   "cell_type": "code",
   "execution_count": 7,
   "id": "d4a4009e",
   "metadata": {},
   "outputs": [],
   "source": [
    "import requests\n",
    "from bs4 import BeautifulSoup\n",
    "\n",
    "query = \"Banco GNB Perú S.A.\"\n",
    "url = \"https://moodyslocal.com.pe/buscar\"\n",
    "params = {\"q\": query}\n",
    "\n",
    "resp = requests.get(url, params=params, headers={\"User-Agent\":\"Mozilla/5.0\"})\n",
    "soup = BeautifulSoup(resp.text, \"html.parser\")\n",
    "\n",
    "# Extraer resultados\n",
    "for item in soup.select(\".resultado-item\"):\n",
    "    title = item.select_one(\"h2\").text.strip()\n",
    "    link = item.select_one(\"a\")[\"href\"]\n",
    "    print(title, link)\n"
   ]
  }
 ],
 "metadata": {
  "kernelspec": {
   "display_name": "Python 3",
   "language": "python",
   "name": "python3"
  },
  "language_info": {
   "codemirror_mode": {
    "name": "ipython",
    "version": 3
   },
   "file_extension": ".py",
   "mimetype": "text/x-python",
   "name": "python",
   "nbconvert_exporter": "python",
   "pygments_lexer": "ipython3",
   "version": "3.13.1"
  }
 },
 "nbformat": 4,
 "nbformat_minor": 5
}
