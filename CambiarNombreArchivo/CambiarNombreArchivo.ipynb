{
 "cells": [
  {
   "cell_type": "code",
   "execution_count": 2,
   "id": "52ace721",
   "metadata": {},
   "outputs": [
    {
     "name": "stdout",
     "output_type": "stream",
     "text": [
      "c:\\Users\\jaret\\Desktop\\Portafolio\\Python\\CambiarNombreArchivo\n"
     ]
    }
   ],
   "source": [
    "!cd"
   ]
  },
  {
   "cell_type": "code",
   "execution_count": 1,
   "id": "e39d77f1",
   "metadata": {},
   "outputs": [],
   "source": [
    "import os "
   ]
  },
  {
   "cell_type": "code",
   "execution_count": 3,
   "id": "77185da3",
   "metadata": {},
   "outputs": [
    {
     "ename": "FileNotFoundError",
     "evalue": "[WinError 3] The system cannot find the path specified: 'CambiarNombreArchivo'",
     "output_type": "error",
     "traceback": [
      "\u001b[1;31m---------------------------------------------------------------------------\u001b[0m",
      "\u001b[1;31mFileNotFoundError\u001b[0m                         Traceback (most recent call last)",
      "Cell \u001b[1;32mIn[3], line 5\u001b[0m\n\u001b[0;32m      2\u001b[0m path \u001b[38;5;241m=\u001b[39m \u001b[38;5;124m'\u001b[39m\u001b[38;5;124mCambiarNombreArchivo\u001b[39m\u001b[38;5;124m'\u001b[39m\n\u001b[0;32m      4\u001b[0m \u001b[38;5;66;03m# Obtener lista con los nombres de los archivos \u001b[39;00m\n\u001b[1;32m----> 5\u001b[0m archivos \u001b[38;5;241m=\u001b[39m \u001b[43mos\u001b[49m\u001b[38;5;241;43m.\u001b[39;49m\u001b[43mlistdir\u001b[49m\u001b[43m(\u001b[49m\u001b[43mpath\u001b[49m\u001b[43m)\u001b[49m\n\u001b[0;32m      7\u001b[0m \u001b[38;5;66;03m# Prefijo con lo que agregaremos cada nombre\u001b[39;00m\n\u001b[0;32m      8\u001b[0m prefijo \u001b[38;5;241m=\u001b[39m \u001b[38;5;124m'\u001b[39m\u001b[38;5;124mcotizacion_\u001b[39m\u001b[38;5;124m'\u001b[39m\n",
      "\u001b[1;31mFileNotFoundError\u001b[0m: [WinError 3] The system cannot find the path specified: 'CambiarNombreArchivo'"
     ]
    }
   ],
   "source": [
    "# Obtener la ruta de la carpeta (lo principal)\n",
    "path = 'CambiarNombreArchivo'\n",
    "\n",
    "# Obtener lista con los nombres de los archivos \n",
    "archivos = os.listdir(path)\n",
    "\n",
    "# Prefijo con lo que agregaremos cada nombre\n",
    "prefijo = 'cotizacion_'\n",
    "\n",
    "for nombre in archivos:\n",
    "    path_archivos = os.path.join(path, nombre)\n",
    "\n",
    "    if os.path.isfile(path_archivos):\n",
    "        nombre_inc, extension = os.path.splitext(nombre)\n",
    "\n",
    "        # Reemplazamos solo la primera aparición de \"ar\" por \"archivo\"\n",
    "        if 'ar' in nombre_inc and 'archivo' not in nombre_inc:\n",
    "            nuevo_nombre_inc = nombre_inc.replace('ar', 'archivo', 1)\n",
    "            nuevo_nombre = prefijo + nuevo_nombre_inc + extension \n",
    "            ruta_arch_nuevo = os.path.join(path, nuevo_nombre)\n",
    "\n",
    "            if not os.path.exists(ruta_arch_nuevo):\n",
    "                os.rename(path_archivos, ruta_arch_nuevo)\n",
    "                print(f\"Renombrado: {nombre} -> {nuevo_nombre}\")\n",
    "            else:\n",
    "                print(f\"Ya existe: {nuevo_nombre} (no renombrado)\")"
   ]
  }
 ],
 "metadata": {
  "kernelspec": {
   "display_name": "Python 3",
   "language": "python",
   "name": "python3"
  },
  "language_info": {
   "codemirror_mode": {
    "name": "ipython",
    "version": 3
   },
   "file_extension": ".py",
   "mimetype": "text/x-python",
   "name": "python",
   "nbconvert_exporter": "python",
   "pygments_lexer": "ipython3",
   "version": "3.13.1"
  }
 },
 "nbformat": 4,
 "nbformat_minor": 5
}
