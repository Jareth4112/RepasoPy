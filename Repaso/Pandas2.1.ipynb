{
 "cells": [
  {
   "cell_type": "code",
   "execution_count": 1,
   "id": "d3886ef8",
   "metadata": {},
   "outputs": [],
   "source": [
    "import pandas as pd\n",
    "import os \n",
    "import pymupdf as pdf\n",
    "import regex as re"
   ]
  },
  {
   "cell_type": "code",
   "execution_count": 2,
   "id": "9bb35e0c",
   "metadata": {},
   "outputs": [
    {
     "name": "stdout",
     "output_type": "stream",
     "text": [
      "['Phone', ' 51 1 213 0300']\n",
      "['Phone', ' 51 1 708 5900']\n",
      "['Phone', ' 972-940-6000']\n",
      "['Phone', ' 34 91 581 23 18']\n",
      "['Phone', ' 51 1518 4000']\n"
     ]
    }
   ],
   "source": [
    "carpeta_pdfs = r'c:\\Users\\jaret\\Desktop\\Portafolio\\Python\\Extraer_datos\\PDFs'\n",
    "base_splits = []\n",
    "for archivo in os.listdir(carpeta_pdfs):\n",
    "    if archivo.endswith(\".pdf\"):\n",
    "        ruta_pdf = os.path.join(carpeta_pdfs, archivo)\n",
    "        doc = pdf.open(ruta_pdf)\n",
    "        texto_completo = \"\"\n",
    "        for pagina in doc:\n",
    "            texto_completo += pagina.get_text()\n",
    "        for line in texto_completo.splitlines():\n",
    "            number = None\n",
    "            n_emp = None\n",
    "            if re.search('^D.*:', line):\n",
    "                date = line.split(':')\n",
    "                date = date[1]\n",
    "            if not line.startswith('Phone:'):\n",
    "                continue\n",
    "            number = line.split(':')\n",
    "            name_arch  = re.match(r'^([A-Z][a-z]+)+', archivo)\n",
    "            name_arch = name_arch.group()\n",
    "            base_splits.append({'Type': number[0].strip(), \n",
    "                                'Contact': number[1].strip(), \n",
    "                                'Archivo': archivo.strip(), \n",
    "                                'Empresa': name_arch.strip(), \n",
    "                                'Date': date})\n",
    "            print(number)"
   ]
  },
  {
   "cell_type": "code",
   "execution_count": 3,
   "id": "4e11385c",
   "metadata": {},
   "outputs": [
    {
     "data": {
      "text/plain": [
       "[{'Type': 'Phone',\n",
       "  'Contact': '51 1 213 0300',\n",
       "  'Archivo': 'AenzaSAABVLAENZAC1_PublicCompany.pdf',\n",
       "  'Empresa': 'Aenza',\n",
       "  'Date': ' Jun-30-2025'},\n",
       " {'Type': 'Phone',\n",
       "  'Contact': '51 1 708 5900',\n",
       "  'Archivo': 'AustralGroupSAABVLAUSTRAC1_PublicCompany (1).pdf',\n",
       "  'Empresa': 'AustralGroup',\n",
       "  'Date': ' Jun-09-2025'},\n",
       " {'Type': 'Phone',\n",
       "  'Contact': '972-940-6000',\n",
       "  'Archivo': 'ExxonMobilCorporationNYSEXOM_PublicCompany.pdf',\n",
       "  'Empresa': 'ExxonMobilCorporation',\n",
       "  'Date': ' Jun-12-2025'},\n",
       " {'Type': 'Phone',\n",
       "  'Contact': '34 91 581 23 18',\n",
       "  'Archivo': 'MapfreSABMEMAP_PublicCompany.pdf',\n",
       "  'Empresa': 'Mapfre',\n",
       "  'Date': ' Jun-10-2025'},\n",
       " {'Type': 'Phone',\n",
       "  'Contact': '51 1518 4000',\n",
       "  'Archivo': 'PacíficoCompañíadeSegurosyReasegurosBVLPACIFIC1_PublicCompany.pdf',\n",
       "  'Empresa': 'Pac',\n",
       "  'Date': ' Jun-30-2025'}]"
      ]
     },
     "execution_count": 3,
     "metadata": {},
     "output_type": "execute_result"
    }
   ],
   "source": [
    "base_splits"
   ]
  },
  {
   "cell_type": "code",
   "execution_count": 4,
   "id": "4b55f1e3",
   "metadata": {},
   "outputs": [
    {
     "data": {
      "application/vnd.microsoft.datawrangler.viewer.v0+json": {
       "columns": [
        {
         "name": "index",
         "rawType": "int64",
         "type": "integer"
        },
        {
         "name": "Type",
         "rawType": "object",
         "type": "string"
        },
        {
         "name": "Contact",
         "rawType": "object",
         "type": "string"
        },
        {
         "name": "Archivo",
         "rawType": "object",
         "type": "string"
        },
        {
         "name": "Empresa",
         "rawType": "object",
         "type": "string"
        },
        {
         "name": "Date",
         "rawType": "datetime64[ns]",
         "type": "datetime"
        }
       ],
       "ref": "76736923-8ffd-4e4c-a949-c8cece9b04f5",
       "rows": [
        [
         "0",
         "Phone",
         "51 1 213 0300",
         "AenzaSAABVLAENZAC1_PublicCompany.pdf",
         "Aenza",
         "2025-06-30 00:00:00"
        ],
        [
         "1",
         "Phone",
         "51 1 708 5900",
         "AustralGroupSAABVLAUSTRAC1_PublicCompany (1).pdf",
         "AustralGroup",
         "2025-06-09 00:00:00"
        ],
        [
         "2",
         "Phone",
         "972-940-6000",
         "ExxonMobilCorporationNYSEXOM_PublicCompany.pdf",
         "ExxonMobilCorporation",
         "2025-06-12 00:00:00"
        ],
        [
         "3",
         "Phone",
         "34 91 581 23 18",
         "MapfreSABMEMAP_PublicCompany.pdf",
         "Mapfre",
         "2025-06-10 00:00:00"
        ],
        [
         "4",
         "Phone",
         "51 1518 4000",
         "PacíficoCompañíadeSegurosyReasegurosBVLPACIFIC1_PublicCompany.pdf",
         "Pac",
         "2025-06-30 00:00:00"
        ]
       ],
       "shape": {
        "columns": 5,
        "rows": 5
       }
      },
      "text/html": [
       "<div>\n",
       "<style scoped>\n",
       "    .dataframe tbody tr th:only-of-type {\n",
       "        vertical-align: middle;\n",
       "    }\n",
       "\n",
       "    .dataframe tbody tr th {\n",
       "        vertical-align: top;\n",
       "    }\n",
       "\n",
       "    .dataframe thead th {\n",
       "        text-align: right;\n",
       "    }\n",
       "</style>\n",
       "<table border=\"1\" class=\"dataframe\">\n",
       "  <thead>\n",
       "    <tr style=\"text-align: right;\">\n",
       "      <th></th>\n",
       "      <th>Type</th>\n",
       "      <th>Contact</th>\n",
       "      <th>Archivo</th>\n",
       "      <th>Empresa</th>\n",
       "      <th>Date</th>\n",
       "    </tr>\n",
       "  </thead>\n",
       "  <tbody>\n",
       "    <tr>\n",
       "      <th>0</th>\n",
       "      <td>Phone</td>\n",
       "      <td>51 1 213 0300</td>\n",
       "      <td>AenzaSAABVLAENZAC1_PublicCompany.pdf</td>\n",
       "      <td>Aenza</td>\n",
       "      <td>2025-06-30</td>\n",
       "    </tr>\n",
       "    <tr>\n",
       "      <th>1</th>\n",
       "      <td>Phone</td>\n",
       "      <td>51 1 708 5900</td>\n",
       "      <td>AustralGroupSAABVLAUSTRAC1_PublicCompany (1).pdf</td>\n",
       "      <td>AustralGroup</td>\n",
       "      <td>2025-06-09</td>\n",
       "    </tr>\n",
       "    <tr>\n",
       "      <th>2</th>\n",
       "      <td>Phone</td>\n",
       "      <td>972-940-6000</td>\n",
       "      <td>ExxonMobilCorporationNYSEXOM_PublicCompany.pdf</td>\n",
       "      <td>ExxonMobilCorporation</td>\n",
       "      <td>2025-06-12</td>\n",
       "    </tr>\n",
       "    <tr>\n",
       "      <th>3</th>\n",
       "      <td>Phone</td>\n",
       "      <td>34 91 581 23 18</td>\n",
       "      <td>MapfreSABMEMAP_PublicCompany.pdf</td>\n",
       "      <td>Mapfre</td>\n",
       "      <td>2025-06-10</td>\n",
       "    </tr>\n",
       "    <tr>\n",
       "      <th>4</th>\n",
       "      <td>Phone</td>\n",
       "      <td>51 1518 4000</td>\n",
       "      <td>PacíficoCompañíadeSegurosyReasegurosBVLPACIFIC...</td>\n",
       "      <td>Pac</td>\n",
       "      <td>2025-06-30</td>\n",
       "    </tr>\n",
       "  </tbody>\n",
       "</table>\n",
       "</div>"
      ],
      "text/plain": [
       "    Type          Contact                                            Archivo  \\\n",
       "0  Phone    51 1 213 0300               AenzaSAABVLAENZAC1_PublicCompany.pdf   \n",
       "1  Phone    51 1 708 5900   AustralGroupSAABVLAUSTRAC1_PublicCompany (1).pdf   \n",
       "2  Phone     972-940-6000     ExxonMobilCorporationNYSEXOM_PublicCompany.pdf   \n",
       "3  Phone  34 91 581 23 18                   MapfreSABMEMAP_PublicCompany.pdf   \n",
       "4  Phone     51 1518 4000  PacíficoCompañíadeSegurosyReasegurosBVLPACIFIC...   \n",
       "\n",
       "                 Empresa       Date  \n",
       "0                  Aenza 2025-06-30  \n",
       "1           AustralGroup 2025-06-09  \n",
       "2  ExxonMobilCorporation 2025-06-12  \n",
       "3                 Mapfre 2025-06-10  \n",
       "4                    Pac 2025-06-30  "
      ]
     },
     "execution_count": 4,
     "metadata": {},
     "output_type": "execute_result"
    }
   ],
   "source": [
    "df_contact = pd.DataFrame(base_splits)\n",
    "df_contact['Date'] = pd.to_datetime(df_contact['Date'])\n",
    "df_contact"
   ]
  },
  {
   "cell_type": "code",
   "execution_count": 5,
   "id": "7134726d",
   "metadata": {},
   "outputs": [
    {
     "data": {
      "application/vnd.microsoft.datawrangler.viewer.v0+json": {
       "columns": [
        {
         "name": "index",
         "rawType": "int64",
         "type": "integer"
        },
        {
         "name": "Empresa",
         "rawType": "object",
         "type": "string"
        }
       ],
       "ref": "2e4ac00c-02b4-4ea0-a346-ccf07825f545",
       "rows": [
        [
         "1",
         "AustralGroup"
        ],
        [
         "2",
         "ExxonMobilCorporation"
        ]
       ],
       "shape": {
        "columns": 1,
        "rows": 2
       }
      },
      "text/html": [
       "<div>\n",
       "<style scoped>\n",
       "    .dataframe tbody tr th:only-of-type {\n",
       "        vertical-align: middle;\n",
       "    }\n",
       "\n",
       "    .dataframe tbody tr th {\n",
       "        vertical-align: top;\n",
       "    }\n",
       "\n",
       "    .dataframe thead th {\n",
       "        text-align: right;\n",
       "    }\n",
       "</style>\n",
       "<table border=\"1\" class=\"dataframe\">\n",
       "  <thead>\n",
       "    <tr style=\"text-align: right;\">\n",
       "      <th></th>\n",
       "      <th>Empresa</th>\n",
       "    </tr>\n",
       "  </thead>\n",
       "  <tbody>\n",
       "    <tr>\n",
       "      <th>1</th>\n",
       "      <td>AustralGroup</td>\n",
       "    </tr>\n",
       "    <tr>\n",
       "      <th>2</th>\n",
       "      <td>ExxonMobilCorporation</td>\n",
       "    </tr>\n",
       "  </tbody>\n",
       "</table>\n",
       "</div>"
      ],
      "text/plain": [
       "                 Empresa\n",
       "1           AustralGroup\n",
       "2  ExxonMobilCorporation"
      ]
     },
     "execution_count": 5,
     "metadata": {},
     "output_type": "execute_result"
    }
   ],
   "source": [
    "df_iloc = df_contact.iloc[1:3, 3:4]\n",
    "df_iloc"
   ]
  },
  {
   "cell_type": "code",
   "execution_count": 6,
   "id": "f7095b2e",
   "metadata": {},
   "outputs": [
    {
     "data": {
      "application/vnd.microsoft.datawrangler.viewer.v0+json": {
       "columns": [
        {
         "name": "index",
         "rawType": "int64",
         "type": "integer"
        },
        {
         "name": "Type",
         "rawType": "object",
         "type": "string"
        },
        {
         "name": "Contact",
         "rawType": "object",
         "type": "string"
        },
        {
         "name": "Archivo",
         "rawType": "object",
         "type": "string"
        }
       ],
       "ref": "d10d391c-09d3-462b-9ce2-4a6e5d4842c0",
       "rows": [
        [
         "2",
         "Phone",
         "972-940-6000",
         "ExxonMobilCorporationNYSEXOM_PublicCompany.pdf"
        ],
        [
         "3",
         "Phone",
         "34 91 581 23 18",
         "MapfreSABMEMAP_PublicCompany.pdf"
        ],
        [
         "4",
         "Phone",
         "51 1518 4000",
         "PacíficoCompañíadeSegurosyReasegurosBVLPACIFIC1_PublicCompany.pdf"
        ]
       ],
       "shape": {
        "columns": 3,
        "rows": 3
       }
      },
      "text/html": [
       "<div>\n",
       "<style scoped>\n",
       "    .dataframe tbody tr th:only-of-type {\n",
       "        vertical-align: middle;\n",
       "    }\n",
       "\n",
       "    .dataframe tbody tr th {\n",
       "        vertical-align: top;\n",
       "    }\n",
       "\n",
       "    .dataframe thead th {\n",
       "        text-align: right;\n",
       "    }\n",
       "</style>\n",
       "<table border=\"1\" class=\"dataframe\">\n",
       "  <thead>\n",
       "    <tr style=\"text-align: right;\">\n",
       "      <th></th>\n",
       "      <th>Type</th>\n",
       "      <th>Contact</th>\n",
       "      <th>Archivo</th>\n",
       "    </tr>\n",
       "  </thead>\n",
       "  <tbody>\n",
       "    <tr>\n",
       "      <th>2</th>\n",
       "      <td>Phone</td>\n",
       "      <td>972-940-6000</td>\n",
       "      <td>ExxonMobilCorporationNYSEXOM_PublicCompany.pdf</td>\n",
       "    </tr>\n",
       "    <tr>\n",
       "      <th>3</th>\n",
       "      <td>Phone</td>\n",
       "      <td>34 91 581 23 18</td>\n",
       "      <td>MapfreSABMEMAP_PublicCompany.pdf</td>\n",
       "    </tr>\n",
       "    <tr>\n",
       "      <th>4</th>\n",
       "      <td>Phone</td>\n",
       "      <td>51 1518 4000</td>\n",
       "      <td>PacíficoCompañíadeSegurosyReasegurosBVLPACIFIC...</td>\n",
       "    </tr>\n",
       "  </tbody>\n",
       "</table>\n",
       "</div>"
      ],
      "text/plain": [
       "    Type          Contact                                            Archivo\n",
       "2  Phone     972-940-6000     ExxonMobilCorporationNYSEXOM_PublicCompany.pdf\n",
       "3  Phone  34 91 581 23 18                   MapfreSABMEMAP_PublicCompany.pdf\n",
       "4  Phone     51 1518 4000  PacíficoCompañíadeSegurosyReasegurosBVLPACIFIC..."
      ]
     },
     "execution_count": 6,
     "metadata": {},
     "output_type": "execute_result"
    }
   ],
   "source": [
    "df_loc = df_contact.loc[2:, 'Type':'Archivo']\n",
    "df_loc"
   ]
  },
  {
   "cell_type": "code",
   "execution_count": 7,
   "id": "f298cef7",
   "metadata": {},
   "outputs": [
    {
     "data": {
      "application/vnd.microsoft.datawrangler.viewer.v0+json": {
       "columns": [
        {
         "name": "index",
         "rawType": "int64",
         "type": "integer"
        },
        {
         "name": "Type",
         "rawType": "object",
         "type": "string"
        },
        {
         "name": "Contact",
         "rawType": "object",
         "type": "string"
        },
        {
         "name": "Archivo",
         "rawType": "object",
         "type": "string"
        }
       ],
       "ref": "a7716acd-cfa4-4ed3-85b7-9f7875dfd309",
       "rows": [
        [
         "2",
         "Phone",
         "972-940-6000",
         "ExxonMobilCorporationNYSEXOM_PublicCompany.pdf"
        ],
        [
         "3",
         "Phone",
         "34 91 581 23 18",
         "MapfreSABMEMAP_PublicCompany.pdf"
        ],
        [
         "4",
         "Phone",
         "51 1518 4000",
         "PacíficoCompañíadeSegurosyReasegurosBVLPACIFIC1_PublicCompany.pdf"
        ]
       ],
       "shape": {
        "columns": 3,
        "rows": 3
       }
      },
      "text/html": [
       "<div>\n",
       "<style scoped>\n",
       "    .dataframe tbody tr th:only-of-type {\n",
       "        vertical-align: middle;\n",
       "    }\n",
       "\n",
       "    .dataframe tbody tr th {\n",
       "        vertical-align: top;\n",
       "    }\n",
       "\n",
       "    .dataframe thead th {\n",
       "        text-align: right;\n",
       "    }\n",
       "</style>\n",
       "<table border=\"1\" class=\"dataframe\">\n",
       "  <thead>\n",
       "    <tr style=\"text-align: right;\">\n",
       "      <th></th>\n",
       "      <th>Type</th>\n",
       "      <th>Contact</th>\n",
       "      <th>Archivo</th>\n",
       "    </tr>\n",
       "  </thead>\n",
       "  <tbody>\n",
       "    <tr>\n",
       "      <th>2</th>\n",
       "      <td>Phone</td>\n",
       "      <td>972-940-6000</td>\n",
       "      <td>ExxonMobilCorporationNYSEXOM_PublicCompany.pdf</td>\n",
       "    </tr>\n",
       "    <tr>\n",
       "      <th>3</th>\n",
       "      <td>Phone</td>\n",
       "      <td>34 91 581 23 18</td>\n",
       "      <td>MapfreSABMEMAP_PublicCompany.pdf</td>\n",
       "    </tr>\n",
       "    <tr>\n",
       "      <th>4</th>\n",
       "      <td>Phone</td>\n",
       "      <td>51 1518 4000</td>\n",
       "      <td>PacíficoCompañíadeSegurosyReasegurosBVLPACIFIC...</td>\n",
       "    </tr>\n",
       "  </tbody>\n",
       "</table>\n",
       "</div>"
      ],
      "text/plain": [
       "    Type          Contact                                            Archivo\n",
       "2  Phone     972-940-6000     ExxonMobilCorporationNYSEXOM_PublicCompany.pdf\n",
       "3  Phone  34 91 581 23 18                   MapfreSABMEMAP_PublicCompany.pdf\n",
       "4  Phone     51 1518 4000  PacíficoCompañíadeSegurosyReasegurosBVLPACIFIC..."
      ]
     },
     "execution_count": 7,
     "metadata": {},
     "output_type": "execute_result"
    }
   ],
   "source": [
    "df_loc = df_contact.loc[2:, 'Type':'Archivo']\n",
    "df_loc"
   ]
  },
  {
   "cell_type": "code",
   "execution_count": null,
   "id": "657698a8",
   "metadata": {},
   "outputs": [],
   "source": [
    "import pandas as pd\n",
    "import os \n",
    "import pymupdf as pdf\n",
    "import regex as re"
   ]
  },
  {
   "cell_type": "code",
   "execution_count": null,
   "id": "73a9fb98",
   "metadata": {},
   "outputs": [
    {
     "name": "stdout",
     "output_type": "stream",
     "text": [
      "['Phone', ' 51 1 213 0300']\n",
      "['Phone', ' 51 1 708 5900']\n",
      "['Phone', ' 972-940-6000']\n",
      "['Phone', ' 34 91 581 23 18']\n",
      "['Phone', ' 51 1518 4000']\n"
     ]
    }
   ],
   "source": [
    "carpeta_pdfs = r'c:\\Users\\jaret\\Desktop\\Portafolio\\Python\\Extraer_datos\\PDFs'\n",
    "base_splits = []\n",
    "for archivo in os.listdir(carpeta_pdfs):\n",
    "    if archivo.endswith(\".pdf\"):\n",
    "        ruta_pdf = os.path.join(carpeta_pdfs, archivo)\n",
    "        doc = pdf.open(ruta_pdf)\n",
    "        texto_completo = \"\"\n",
    "        for pagina in doc:\n",
    "            texto_completo += pagina.get_text()\n",
    "        for line in texto_completo.splitlines():\n",
    "            number = None\n",
    "            n_emp = None\n",
    "            if re.search('^D.*:', line):\n",
    "                date = line.split(':')\n",
    "                date = date[1]\n",
    "            if not line.startswith('Phone:'):\n",
    "                continue\n",
    "            number = line.split(':')\n",
    "            name_arch  = re.match(r'^([A-Z][a-z]+)+', archivo)\n",
    "            name_arch = name_arch.group()\n",
    "            base_splits.append({'Type': number[0].strip(), \n",
    "                                'Contact': number[1].strip(), \n",
    "                                'Archivo': archivo.strip(), \n",
    "                                'Empresa': name_arch.strip(), \n",
    "                                'Date': date})\n",
    "            print(number)"
   ]
  },
  {
   "cell_type": "code",
   "execution_count": null,
   "id": "5f8c4040",
   "metadata": {},
   "outputs": [
    {
     "data": {
      "text/plain": [
       "[{'Type': 'Phone',\n",
       "  'Contact': '51 1 213 0300',\n",
       "  'Archivo': 'AenzaSAABVLAENZAC1_PublicCompany.pdf',\n",
       "  'Empresa': 'Aenza',\n",
       "  'Date': ' Jun-30-2025'},\n",
       " {'Type': 'Phone',\n",
       "  'Contact': '51 1 708 5900',\n",
       "  'Archivo': 'AustralGroupSAABVLAUSTRAC1_PublicCompany (1).pdf',\n",
       "  'Empresa': 'AustralGroup',\n",
       "  'Date': ' Jun-09-2025'},\n",
       " {'Type': 'Phone',\n",
       "  'Contact': '972-940-6000',\n",
       "  'Archivo': 'ExxonMobilCorporationNYSEXOM_PublicCompany.pdf',\n",
       "  'Empresa': 'ExxonMobilCorporation',\n",
       "  'Date': ' Jun-12-2025'},\n",
       " {'Type': 'Phone',\n",
       "  'Contact': '34 91 581 23 18',\n",
       "  'Archivo': 'MapfreSABMEMAP_PublicCompany.pdf',\n",
       "  'Empresa': 'Mapfre',\n",
       "  'Date': ' Jun-10-2025'},\n",
       " {'Type': 'Phone',\n",
       "  'Contact': '51 1518 4000',\n",
       "  'Archivo': 'PacíficoCompañíadeSegurosyReasegurosBVLPACIFIC1_PublicCompany.pdf',\n",
       "  'Empresa': 'Pac',\n",
       "  'Date': ' Jun-30-2025'}]"
      ]
     },
     "metadata": {},
     "output_type": "display_data"
    }
   ],
   "source": [
    "base_splits"
   ]
  },
  {
   "cell_type": "code",
   "execution_count": null,
   "id": "45c252c9",
   "metadata": {},
   "outputs": [
    {
     "data": {
      "application/vnd.microsoft.datawrangler.viewer.v0+json": {
       "columns": [
        {
         "name": "index",
         "rawType": "int64",
         "type": "integer"
        },
        {
         "name": "Type",
         "rawType": "object",
         "type": "string"
        },
        {
         "name": "Contact",
         "rawType": "object",
         "type": "string"
        },
        {
         "name": "Archivo",
         "rawType": "object",
         "type": "string"
        },
        {
         "name": "Empresa",
         "rawType": "object",
         "type": "string"
        },
        {
         "name": "Date",
         "rawType": "datetime64[ns]",
         "type": "datetime"
        }
       ],
       "ref": "a35f779c-285c-429e-bc4a-1f38ca751ed2",
       "rows": [
        [
         "0",
         "Phone",
         "51 1 213 0300",
         "AenzaSAABVLAENZAC1_PublicCompany.pdf",
         "Aenza",
         "2025-06-30 00:00:00"
        ],
        [
         "1",
         "Phone",
         "51 1 708 5900",
         "AustralGroupSAABVLAUSTRAC1_PublicCompany (1).pdf",
         "AustralGroup",
         "2025-06-09 00:00:00"
        ],
        [
         "2",
         "Phone",
         "972-940-6000",
         "ExxonMobilCorporationNYSEXOM_PublicCompany.pdf",
         "ExxonMobilCorporation",
         "2025-06-12 00:00:00"
        ],
        [
         "3",
         "Phone",
         "34 91 581 23 18",
         "MapfreSABMEMAP_PublicCompany.pdf",
         "Mapfre",
         "2025-06-10 00:00:00"
        ],
        [
         "4",
         "Phone",
         "51 1518 4000",
         "PacíficoCompañíadeSegurosyReasegurosBVLPACIFIC1_PublicCompany.pdf",
         "Pac",
         "2025-06-30 00:00:00"
        ]
       ],
       "shape": {
        "columns": 5,
        "rows": 5
       }
      },
      "text/html": [
       "<div>\n",
       "<style scoped>\n",
       "    .dataframe tbody tr th:only-of-type {\n",
       "        vertical-align: middle;\n",
       "    }\n",
       "\n",
       "    .dataframe tbody tr th {\n",
       "        vertical-align: top;\n",
       "    }\n",
       "\n",
       "    .dataframe thead th {\n",
       "        text-align: right;\n",
       "    }\n",
       "</style>\n",
       "<table border=\"1\" class=\"dataframe\">\n",
       "  <thead>\n",
       "    <tr style=\"text-align: right;\">\n",
       "      <th></th>\n",
       "      <th>Type</th>\n",
       "      <th>Contact</th>\n",
       "      <th>Archivo</th>\n",
       "      <th>Empresa</th>\n",
       "      <th>Date</th>\n",
       "    </tr>\n",
       "  </thead>\n",
       "  <tbody>\n",
       "    <tr>\n",
       "      <th>0</th>\n",
       "      <td>Phone</td>\n",
       "      <td>51 1 213 0300</td>\n",
       "      <td>AenzaSAABVLAENZAC1_PublicCompany.pdf</td>\n",
       "      <td>Aenza</td>\n",
       "      <td>2025-06-30</td>\n",
       "    </tr>\n",
       "    <tr>\n",
       "      <th>1</th>\n",
       "      <td>Phone</td>\n",
       "      <td>51 1 708 5900</td>\n",
       "      <td>AustralGroupSAABVLAUSTRAC1_PublicCompany (1).pdf</td>\n",
       "      <td>AustralGroup</td>\n",
       "      <td>2025-06-09</td>\n",
       "    </tr>\n",
       "    <tr>\n",
       "      <th>2</th>\n",
       "      <td>Phone</td>\n",
       "      <td>972-940-6000</td>\n",
       "      <td>ExxonMobilCorporationNYSEXOM_PublicCompany.pdf</td>\n",
       "      <td>ExxonMobilCorporation</td>\n",
       "      <td>2025-06-12</td>\n",
       "    </tr>\n",
       "    <tr>\n",
       "      <th>3</th>\n",
       "      <td>Phone</td>\n",
       "      <td>34 91 581 23 18</td>\n",
       "      <td>MapfreSABMEMAP_PublicCompany.pdf</td>\n",
       "      <td>Mapfre</td>\n",
       "      <td>2025-06-10</td>\n",
       "    </tr>\n",
       "    <tr>\n",
       "      <th>4</th>\n",
       "      <td>Phone</td>\n",
       "      <td>51 1518 4000</td>\n",
       "      <td>PacíficoCompañíadeSegurosyReasegurosBVLPACIFIC...</td>\n",
       "      <td>Pac</td>\n",
       "      <td>2025-06-30</td>\n",
       "    </tr>\n",
       "  </tbody>\n",
       "</table>\n",
       "</div>"
      ],
      "text/plain": [
       "    Type          Contact                                            Archivo  \\\n",
       "0  Phone    51 1 213 0300               AenzaSAABVLAENZAC1_PublicCompany.pdf   \n",
       "1  Phone    51 1 708 5900   AustralGroupSAABVLAUSTRAC1_PublicCompany (1).pdf   \n",
       "2  Phone     972-940-6000     ExxonMobilCorporationNYSEXOM_PublicCompany.pdf   \n",
       "3  Phone  34 91 581 23 18                   MapfreSABMEMAP_PublicCompany.pdf   \n",
       "4  Phone     51 1518 4000  PacíficoCompañíadeSegurosyReasegurosBVLPACIFIC...   \n",
       "\n",
       "                 Empresa       Date  \n",
       "0                  Aenza 2025-06-30  \n",
       "1           AustralGroup 2025-06-09  \n",
       "2  ExxonMobilCorporation 2025-06-12  \n",
       "3                 Mapfre 2025-06-10  \n",
       "4                    Pac 2025-06-30  "
      ]
     },
     "metadata": {},
     "output_type": "display_data"
    }
   ],
   "source": [
    "df_contact = pd.DataFrame(base_splits)\n",
    "df_contact['Date'] = pd.to_datetime(df_contact['Date'])\n",
    "df_contact"
   ]
  },
  {
   "cell_type": "code",
   "execution_count": null,
   "id": "e3e6a1a5",
   "metadata": {},
   "outputs": [
    {
     "data": {
      "application/vnd.microsoft.datawrangler.viewer.v0+json": {
       "columns": [
        {
         "name": "index",
         "rawType": "int64",
         "type": "integer"
        },
        {
         "name": "Empresa",
         "rawType": "object",
         "type": "string"
        }
       ],
       "ref": "834f8e80-39ff-4065-8c9f-23b83bc876a1",
       "rows": [
        [
         "1",
         "AustralGroup"
        ],
        [
         "2",
         "ExxonMobilCorporation"
        ]
       ],
       "shape": {
        "columns": 1,
        "rows": 2
       }
      },
      "text/html": [
       "<div>\n",
       "<style scoped>\n",
       "    .dataframe tbody tr th:only-of-type {\n",
       "        vertical-align: middle;\n",
       "    }\n",
       "\n",
       "    .dataframe tbody tr th {\n",
       "        vertical-align: top;\n",
       "    }\n",
       "\n",
       "    .dataframe thead th {\n",
       "        text-align: right;\n",
       "    }\n",
       "</style>\n",
       "<table border=\"1\" class=\"dataframe\">\n",
       "  <thead>\n",
       "    <tr style=\"text-align: right;\">\n",
       "      <th></th>\n",
       "      <th>Empresa</th>\n",
       "    </tr>\n",
       "  </thead>\n",
       "  <tbody>\n",
       "    <tr>\n",
       "      <th>1</th>\n",
       "      <td>AustralGroup</td>\n",
       "    </tr>\n",
       "    <tr>\n",
       "      <th>2</th>\n",
       "      <td>ExxonMobilCorporation</td>\n",
       "    </tr>\n",
       "  </tbody>\n",
       "</table>\n",
       "</div>"
      ],
      "text/plain": [
       "                 Empresa\n",
       "1           AustralGroup\n",
       "2  ExxonMobilCorporation"
      ]
     },
     "metadata": {},
     "output_type": "display_data"
    }
   ],
   "source": [
    "df_iloc = df_contact.iloc[1:3, 3:4]\n",
    "df_iloc"
   ]
  },
  {
   "cell_type": "code",
   "execution_count": null,
   "id": "96b004b0",
   "metadata": {},
   "outputs": [
    {
     "data": {
      "application/vnd.microsoft.datawrangler.viewer.v0+json": {
       "columns": [
        {
         "name": "index",
         "rawType": "int64",
         "type": "integer"
        },
        {
         "name": "Type",
         "rawType": "object",
         "type": "string"
        },
        {
         "name": "Contact",
         "rawType": "object",
         "type": "string"
        },
        {
         "name": "Archivo",
         "rawType": "object",
         "type": "string"
        }
       ],
       "ref": "d9837ff7-47a8-48db-8abc-c03508e2fb8d",
       "rows": [
        [
         "2",
         "Phone",
         "972-940-6000",
         "ExxonMobilCorporationNYSEXOM_PublicCompany.pdf"
        ],
        [
         "3",
         "Phone",
         "34 91 581 23 18",
         "MapfreSABMEMAP_PublicCompany.pdf"
        ],
        [
         "4",
         "Phone",
         "51 1518 4000",
         "PacíficoCompañíadeSegurosyReasegurosBVLPACIFIC1_PublicCompany.pdf"
        ]
       ],
       "shape": {
        "columns": 3,
        "rows": 3
       }
      },
      "text/html": [
       "<div>\n",
       "<style scoped>\n",
       "    .dataframe tbody tr th:only-of-type {\n",
       "        vertical-align: middle;\n",
       "    }\n",
       "\n",
       "    .dataframe tbody tr th {\n",
       "        vertical-align: top;\n",
       "    }\n",
       "\n",
       "    .dataframe thead th {\n",
       "        text-align: right;\n",
       "    }\n",
       "</style>\n",
       "<table border=\"1\" class=\"dataframe\">\n",
       "  <thead>\n",
       "    <tr style=\"text-align: right;\">\n",
       "      <th></th>\n",
       "      <th>Type</th>\n",
       "      <th>Contact</th>\n",
       "      <th>Archivo</th>\n",
       "    </tr>\n",
       "  </thead>\n",
       "  <tbody>\n",
       "    <tr>\n",
       "      <th>2</th>\n",
       "      <td>Phone</td>\n",
       "      <td>972-940-6000</td>\n",
       "      <td>ExxonMobilCorporationNYSEXOM_PublicCompany.pdf</td>\n",
       "    </tr>\n",
       "    <tr>\n",
       "      <th>3</th>\n",
       "      <td>Phone</td>\n",
       "      <td>34 91 581 23 18</td>\n",
       "      <td>MapfreSABMEMAP_PublicCompany.pdf</td>\n",
       "    </tr>\n",
       "    <tr>\n",
       "      <th>4</th>\n",
       "      <td>Phone</td>\n",
       "      <td>51 1518 4000</td>\n",
       "      <td>PacíficoCompañíadeSegurosyReasegurosBVLPACIFIC...</td>\n",
       "    </tr>\n",
       "  </tbody>\n",
       "</table>\n",
       "</div>"
      ],
      "text/plain": [
       "    Type          Contact                                            Archivo\n",
       "2  Phone     972-940-6000     ExxonMobilCorporationNYSEXOM_PublicCompany.pdf\n",
       "3  Phone  34 91 581 23 18                   MapfreSABMEMAP_PublicCompany.pdf\n",
       "4  Phone     51 1518 4000  PacíficoCompañíadeSegurosyReasegurosBVLPACIFIC..."
      ]
     },
     "metadata": {},
     "output_type": "display_data"
    }
   ],
   "source": [
    "df_loc = df_contact.loc[2:, 'Type':'Archivo']\n",
    "df_loc"
   ]
  },
  {
   "cell_type": "code",
   "execution_count": null,
   "id": "5d8bfe6a",
   "metadata": {},
   "outputs": [
    {
     "data": {
      "application/vnd.microsoft.datawrangler.viewer.v0+json": {
       "columns": [
        {
         "name": "index",
         "rawType": "int64",
         "type": "integer"
        },
        {
         "name": "Type",
         "rawType": "object",
         "type": "string"
        },
        {
         "name": "Contact",
         "rawType": "object",
         "type": "string"
        },
        {
         "name": "Archivo",
         "rawType": "object",
         "type": "string"
        }
       ],
       "ref": "d9837ff7-47a8-48db-8abc-c03508e2fb8d",
       "rows": [
        [
         "2",
         "Phone",
         "972-940-6000",
         "ExxonMobilCorporationNYSEXOM_PublicCompany.pdf"
        ],
        [
         "3",
         "Phone",
         "34 91 581 23 18",
         "MapfreSABMEMAP_PublicCompany.pdf"
        ],
        [
         "4",
         "Phone",
         "51 1518 4000",
         "PacíficoCompañíadeSegurosyReasegurosBVLPACIFIC1_PublicCompany.pdf"
        ]
       ],
       "shape": {
        "columns": 3,
        "rows": 3
       }
      },
      "text/html": [
       "<div>\n",
       "<style scoped>\n",
       "    .dataframe tbody tr th:only-of-type {\n",
       "        vertical-align: middle;\n",
       "    }\n",
       "\n",
       "    .dataframe tbody tr th {\n",
       "        vertical-align: top;\n",
       "    }\n",
       "\n",
       "    .dataframe thead th {\n",
       "        text-align: right;\n",
       "    }\n",
       "</style>\n",
       "<table border=\"1\" class=\"dataframe\">\n",
       "  <thead>\n",
       "    <tr style=\"text-align: right;\">\n",
       "      <th></th>\n",
       "      <th>Type</th>\n",
       "      <th>Contact</th>\n",
       "      <th>Archivo</th>\n",
       "    </tr>\n",
       "  </thead>\n",
       "  <tbody>\n",
       "    <tr>\n",
       "      <th>2</th>\n",
       "      <td>Phone</td>\n",
       "      <td>972-940-6000</td>\n",
       "      <td>ExxonMobilCorporationNYSEXOM_PublicCompany.pdf</td>\n",
       "    </tr>\n",
       "    <tr>\n",
       "      <th>3</th>\n",
       "      <td>Phone</td>\n",
       "      <td>34 91 581 23 18</td>\n",
       "      <td>MapfreSABMEMAP_PublicCompany.pdf</td>\n",
       "    </tr>\n",
       "    <tr>\n",
       "      <th>4</th>\n",
       "      <td>Phone</td>\n",
       "      <td>51 1518 4000</td>\n",
       "      <td>PacíficoCompañíadeSegurosyReasegurosBVLPACIFIC...</td>\n",
       "    </tr>\n",
       "  </tbody>\n",
       "</table>\n",
       "</div>"
      ],
      "text/plain": [
       "    Type          Contact                                            Archivo\n",
       "2  Phone     972-940-6000     ExxonMobilCorporationNYSEXOM_PublicCompany.pdf\n",
       "3  Phone  34 91 581 23 18                   MapfreSABMEMAP_PublicCompany.pdf\n",
       "4  Phone     51 1518 4000  PacíficoCompañíadeSegurosyReasegurosBVLPACIFIC..."
      ]
     },
     "metadata": {},
     "output_type": "display_data"
    }
   ],
   "source": [
    "df_loc = df_contact.loc[2:, 'Type':'Archivo']\n",
    "df_loc"
   ]
  },
  {
   "cell_type": "code",
   "execution_count": 9,
   "id": "9023b188",
   "metadata": {},
   "outputs": [
    {
     "data": {
      "application/vnd.microsoft.datawrangler.viewer.v0+json": {
       "columns": [
        {
         "name": "index",
         "rawType": "int64",
         "type": "integer"
        },
        {
         "name": "Type",
         "rawType": "object",
         "type": "string"
        },
        {
         "name": "Contact",
         "rawType": "object",
         "type": "string"
        },
        {
         "name": "Archivo",
         "rawType": "object",
         "type": "string"
        },
        {
         "name": "Empresa",
         "rawType": "object",
         "type": "string"
        },
        {
         "name": "Date",
         "rawType": "datetime64[ns]",
         "type": "datetime"
        }
       ],
       "ref": "87bc8d4d-a6c5-4e92-a593-044b3f5269d1",
       "rows": [
        [
         "1",
         "Phone",
         "51 1 708 5900",
         "AustralGroupSAABVLAUSTRAC1_PublicCompany (1).pdf",
         "AustralGroup",
         "2025-06-09 00:00:00"
        ],
        [
         "3",
         "Phone",
         "34 91 581 23 18",
         "MapfreSABMEMAP_PublicCompany.pdf",
         "Mapfre",
         "2025-06-10 00:00:00"
        ],
        [
         "2",
         "Phone",
         "972-940-6000",
         "ExxonMobilCorporationNYSEXOM_PublicCompany.pdf",
         "ExxonMobilCorporation",
         "2025-06-12 00:00:00"
        ],
        [
         "0",
         "Phone",
         "51 1 213 0300",
         "AenzaSAABVLAENZAC1_PublicCompany.pdf",
         "Aenza",
         "2025-06-30 00:00:00"
        ],
        [
         "4",
         "Phone",
         "51 1518 4000",
         "PacíficoCompañíadeSegurosyReasegurosBVLPACIFIC1_PublicCompany.pdf",
         "Pac",
         "2025-06-30 00:00:00"
        ]
       ],
       "shape": {
        "columns": 5,
        "rows": 5
       }
      },
      "text/html": [
       "<div>\n",
       "<style scoped>\n",
       "    .dataframe tbody tr th:only-of-type {\n",
       "        vertical-align: middle;\n",
       "    }\n",
       "\n",
       "    .dataframe tbody tr th {\n",
       "        vertical-align: top;\n",
       "    }\n",
       "\n",
       "    .dataframe thead th {\n",
       "        text-align: right;\n",
       "    }\n",
       "</style>\n",
       "<table border=\"1\" class=\"dataframe\">\n",
       "  <thead>\n",
       "    <tr style=\"text-align: right;\">\n",
       "      <th></th>\n",
       "      <th>Type</th>\n",
       "      <th>Contact</th>\n",
       "      <th>Archivo</th>\n",
       "      <th>Empresa</th>\n",
       "      <th>Date</th>\n",
       "    </tr>\n",
       "  </thead>\n",
       "  <tbody>\n",
       "    <tr>\n",
       "      <th>1</th>\n",
       "      <td>Phone</td>\n",
       "      <td>51 1 708 5900</td>\n",
       "      <td>AustralGroupSAABVLAUSTRAC1_PublicCompany (1).pdf</td>\n",
       "      <td>AustralGroup</td>\n",
       "      <td>2025-06-09</td>\n",
       "    </tr>\n",
       "    <tr>\n",
       "      <th>3</th>\n",
       "      <td>Phone</td>\n",
       "      <td>34 91 581 23 18</td>\n",
       "      <td>MapfreSABMEMAP_PublicCompany.pdf</td>\n",
       "      <td>Mapfre</td>\n",
       "      <td>2025-06-10</td>\n",
       "    </tr>\n",
       "    <tr>\n",
       "      <th>2</th>\n",
       "      <td>Phone</td>\n",
       "      <td>972-940-6000</td>\n",
       "      <td>ExxonMobilCorporationNYSEXOM_PublicCompany.pdf</td>\n",
       "      <td>ExxonMobilCorporation</td>\n",
       "      <td>2025-06-12</td>\n",
       "    </tr>\n",
       "    <tr>\n",
       "      <th>0</th>\n",
       "      <td>Phone</td>\n",
       "      <td>51 1 213 0300</td>\n",
       "      <td>AenzaSAABVLAENZAC1_PublicCompany.pdf</td>\n",
       "      <td>Aenza</td>\n",
       "      <td>2025-06-30</td>\n",
       "    </tr>\n",
       "    <tr>\n",
       "      <th>4</th>\n",
       "      <td>Phone</td>\n",
       "      <td>51 1518 4000</td>\n",
       "      <td>PacíficoCompañíadeSegurosyReasegurosBVLPACIFIC...</td>\n",
       "      <td>Pac</td>\n",
       "      <td>2025-06-30</td>\n",
       "    </tr>\n",
       "  </tbody>\n",
       "</table>\n",
       "</div>"
      ],
      "text/plain": [
       "    Type          Contact                                            Archivo  \\\n",
       "1  Phone    51 1 708 5900   AustralGroupSAABVLAUSTRAC1_PublicCompany (1).pdf   \n",
       "3  Phone  34 91 581 23 18                   MapfreSABMEMAP_PublicCompany.pdf   \n",
       "2  Phone     972-940-6000     ExxonMobilCorporationNYSEXOM_PublicCompany.pdf   \n",
       "0  Phone    51 1 213 0300               AenzaSAABVLAENZAC1_PublicCompany.pdf   \n",
       "4  Phone     51 1518 4000  PacíficoCompañíadeSegurosyReasegurosBVLPACIFIC...   \n",
       "\n",
       "                 Empresa       Date  \n",
       "1           AustralGroup 2025-06-09  \n",
       "3                 Mapfre 2025-06-10  \n",
       "2  ExxonMobilCorporation 2025-06-12  \n",
       "0                  Aenza 2025-06-30  \n",
       "4                    Pac 2025-06-30  "
      ]
     },
     "execution_count": 9,
     "metadata": {},
     "output_type": "execute_result"
    }
   ],
   "source": [
    "df_contact.sort_values(by='Date', ascending=True)"
   ]
  },
  {
   "cell_type": "code",
   "execution_count": null,
   "id": "ca812236",
   "metadata": {},
   "outputs": [],
   "source": [
    "df_contact[df_contact['Contact'] == df_contact['Contact'].isin]"
   ]
  },
  {
   "cell_type": "code",
   "execution_count": 15,
   "id": "f8a6bda1",
   "metadata": {},
   "outputs": [
    {
     "name": "stderr",
     "output_type": "stream",
     "text": [
      "C:\\Users\\jaret\\AppData\\Local\\Temp\\ipykernel_66908\\1782435200.py:1: FutureWarning: The behavior of 'isin' with dtype=datetime64[ns] and castable values (e.g. strings) is deprecated. In a future version, these will not be considered matching by isin. Explicitly cast to the appropriate dtype before calling isin instead.\n",
      "  df_contact[df_contact['Date'].isin(['2025-06-09','2025-06-10'])]\n"
     ]
    },
    {
     "data": {
      "application/vnd.microsoft.datawrangler.viewer.v0+json": {
       "columns": [
        {
         "name": "index",
         "rawType": "int64",
         "type": "integer"
        },
        {
         "name": "Type",
         "rawType": "object",
         "type": "string"
        },
        {
         "name": "Contact",
         "rawType": "object",
         "type": "string"
        },
        {
         "name": "Archivo",
         "rawType": "object",
         "type": "string"
        },
        {
         "name": "Empresa",
         "rawType": "object",
         "type": "string"
        },
        {
         "name": "Date",
         "rawType": "datetime64[ns]",
         "type": "datetime"
        }
       ],
       "ref": "719da02d-42eb-4df9-8653-10421181e33e",
       "rows": [
        [
         "1",
         "Phone",
         "51 1 708 5900",
         "AustralGroupSAABVLAUSTRAC1_PublicCompany (1).pdf",
         "AustralGroup",
         "2025-06-09 00:00:00"
        ],
        [
         "3",
         "Phone",
         "34 91 581 23 18",
         "MapfreSABMEMAP_PublicCompany.pdf",
         "Mapfre",
         "2025-06-10 00:00:00"
        ]
       ],
       "shape": {
        "columns": 5,
        "rows": 2
       }
      },
      "text/html": [
       "<div>\n",
       "<style scoped>\n",
       "    .dataframe tbody tr th:only-of-type {\n",
       "        vertical-align: middle;\n",
       "    }\n",
       "\n",
       "    .dataframe tbody tr th {\n",
       "        vertical-align: top;\n",
       "    }\n",
       "\n",
       "    .dataframe thead th {\n",
       "        text-align: right;\n",
       "    }\n",
       "</style>\n",
       "<table border=\"1\" class=\"dataframe\">\n",
       "  <thead>\n",
       "    <tr style=\"text-align: right;\">\n",
       "      <th></th>\n",
       "      <th>Type</th>\n",
       "      <th>Contact</th>\n",
       "      <th>Archivo</th>\n",
       "      <th>Empresa</th>\n",
       "      <th>Date</th>\n",
       "    </tr>\n",
       "  </thead>\n",
       "  <tbody>\n",
       "    <tr>\n",
       "      <th>1</th>\n",
       "      <td>Phone</td>\n",
       "      <td>51 1 708 5900</td>\n",
       "      <td>AustralGroupSAABVLAUSTRAC1_PublicCompany (1).pdf</td>\n",
       "      <td>AustralGroup</td>\n",
       "      <td>2025-06-09</td>\n",
       "    </tr>\n",
       "    <tr>\n",
       "      <th>3</th>\n",
       "      <td>Phone</td>\n",
       "      <td>34 91 581 23 18</td>\n",
       "      <td>MapfreSABMEMAP_PublicCompany.pdf</td>\n",
       "      <td>Mapfre</td>\n",
       "      <td>2025-06-10</td>\n",
       "    </tr>\n",
       "  </tbody>\n",
       "</table>\n",
       "</div>"
      ],
      "text/plain": [
       "    Type          Contact                                           Archivo  \\\n",
       "1  Phone    51 1 708 5900  AustralGroupSAABVLAUSTRAC1_PublicCompany (1).pdf   \n",
       "3  Phone  34 91 581 23 18                  MapfreSABMEMAP_PublicCompany.pdf   \n",
       "\n",
       "        Empresa       Date  \n",
       "1  AustralGroup 2025-06-09  \n",
       "3        Mapfre 2025-06-10  "
      ]
     },
     "execution_count": 15,
     "metadata": {},
     "output_type": "execute_result"
    }
   ],
   "source": [
    "df_contact[df_contact['Date'].isin(['2025-06-09','2025-06-10'])]"
   ]
  },
  {
   "cell_type": "code",
   "execution_count": 14,
   "id": "78bd304b",
   "metadata": {},
   "outputs": [
    {
     "data": {
      "application/vnd.microsoft.datawrangler.viewer.v0+json": {
       "columns": [
        {
         "name": "index",
         "rawType": "int64",
         "type": "integer"
        },
        {
         "name": "Type",
         "rawType": "object",
         "type": "string"
        },
        {
         "name": "Contact",
         "rawType": "object",
         "type": "string"
        },
        {
         "name": "Archivo",
         "rawType": "object",
         "type": "string"
        },
        {
         "name": "Empresa",
         "rawType": "object",
         "type": "string"
        },
        {
         "name": "Date",
         "rawType": "datetime64[ns]",
         "type": "datetime"
        }
       ],
       "ref": "a6218b00-9e32-4f68-97b0-0f168543315f",
       "rows": [
        [
         "1",
         "Phone",
         "51 1 708 5900",
         "AustralGroupSAABVLAUSTRAC1_PublicCompany (1).pdf",
         "AustralGroup",
         "2025-06-09 00:00:00"
        ],
        [
         "3",
         "Phone",
         "34 91 581 23 18",
         "MapfreSABMEMAP_PublicCompany.pdf",
         "Mapfre",
         "2025-06-10 00:00:00"
        ]
       ],
       "shape": {
        "columns": 5,
        "rows": 2
       }
      },
      "text/html": [
       "<div>\n",
       "<style scoped>\n",
       "    .dataframe tbody tr th:only-of-type {\n",
       "        vertical-align: middle;\n",
       "    }\n",
       "\n",
       "    .dataframe tbody tr th {\n",
       "        vertical-align: top;\n",
       "    }\n",
       "\n",
       "    .dataframe thead th {\n",
       "        text-align: right;\n",
       "    }\n",
       "</style>\n",
       "<table border=\"1\" class=\"dataframe\">\n",
       "  <thead>\n",
       "    <tr style=\"text-align: right;\">\n",
       "      <th></th>\n",
       "      <th>Type</th>\n",
       "      <th>Contact</th>\n",
       "      <th>Archivo</th>\n",
       "      <th>Empresa</th>\n",
       "      <th>Date</th>\n",
       "    </tr>\n",
       "  </thead>\n",
       "  <tbody>\n",
       "    <tr>\n",
       "      <th>1</th>\n",
       "      <td>Phone</td>\n",
       "      <td>51 1 708 5900</td>\n",
       "      <td>AustralGroupSAABVLAUSTRAC1_PublicCompany (1).pdf</td>\n",
       "      <td>AustralGroup</td>\n",
       "      <td>2025-06-09</td>\n",
       "    </tr>\n",
       "    <tr>\n",
       "      <th>3</th>\n",
       "      <td>Phone</td>\n",
       "      <td>34 91 581 23 18</td>\n",
       "      <td>MapfreSABMEMAP_PublicCompany.pdf</td>\n",
       "      <td>Mapfre</td>\n",
       "      <td>2025-06-10</td>\n",
       "    </tr>\n",
       "  </tbody>\n",
       "</table>\n",
       "</div>"
      ],
      "text/plain": [
       "    Type          Contact                                           Archivo  \\\n",
       "1  Phone    51 1 708 5900  AustralGroupSAABVLAUSTRAC1_PublicCompany (1).pdf   \n",
       "3  Phone  34 91 581 23 18                  MapfreSABMEMAP_PublicCompany.pdf   \n",
       "\n",
       "        Empresa       Date  \n",
       "1  AustralGroup 2025-06-09  \n",
       "3        Mapfre 2025-06-10  "
      ]
     },
     "execution_count": 14,
     "metadata": {},
     "output_type": "execute_result"
    }
   ],
   "source": [
    "df_contact[\n",
    "    (df_contact['Date'] >= '2025-05-30') &\n",
    "    (df_contact['Date'] <= '2025-06-10')\n",
    "]"
   ]
  },
  {
   "cell_type": "code",
   "execution_count": 16,
   "id": "770b9014",
   "metadata": {},
   "outputs": [
    {
     "data": {
      "application/vnd.microsoft.datawrangler.viewer.v0+json": {
       "columns": [
        {
         "name": "index",
         "rawType": "int64",
         "type": "integer"
        },
        {
         "name": "Type",
         "rawType": "object",
         "type": "string"
        },
        {
         "name": "Contact",
         "rawType": "object",
         "type": "string"
        },
        {
         "name": "Archivo",
         "rawType": "object",
         "type": "string"
        },
        {
         "name": "Empresa",
         "rawType": "object",
         "type": "string"
        },
        {
         "name": "Date",
         "rawType": "datetime64[ns]",
         "type": "datetime"
        }
       ],
       "ref": "4855b4e7-c96a-400b-9933-4191d8d765d8",
       "rows": [
        [
         "0",
         "Phone",
         "51 1 213 0300",
         "AenzaSAABVLAENZAC1_PublicCompany.pdf",
         "Aenza",
         "2025-06-30 00:00:00"
        ],
        [
         "1",
         "Phone",
         "51 1 708 5900",
         "AustralGroupSAABVLAUSTRAC1_PublicCompany (1).pdf",
         "AustralGroup",
         "2025-06-09 00:00:00"
        ],
        [
         "4",
         "Phone",
         "51 1518 4000",
         "PacíficoCompañíadeSegurosyReasegurosBVLPACIFIC1_PublicCompany.pdf",
         "Pac",
         "2025-06-30 00:00:00"
        ]
       ],
       "shape": {
        "columns": 5,
        "rows": 3
       }
      },
      "text/html": [
       "<div>\n",
       "<style scoped>\n",
       "    .dataframe tbody tr th:only-of-type {\n",
       "        vertical-align: middle;\n",
       "    }\n",
       "\n",
       "    .dataframe tbody tr th {\n",
       "        vertical-align: top;\n",
       "    }\n",
       "\n",
       "    .dataframe thead th {\n",
       "        text-align: right;\n",
       "    }\n",
       "</style>\n",
       "<table border=\"1\" class=\"dataframe\">\n",
       "  <thead>\n",
       "    <tr style=\"text-align: right;\">\n",
       "      <th></th>\n",
       "      <th>Type</th>\n",
       "      <th>Contact</th>\n",
       "      <th>Archivo</th>\n",
       "      <th>Empresa</th>\n",
       "      <th>Date</th>\n",
       "    </tr>\n",
       "  </thead>\n",
       "  <tbody>\n",
       "    <tr>\n",
       "      <th>0</th>\n",
       "      <td>Phone</td>\n",
       "      <td>51 1 213 0300</td>\n",
       "      <td>AenzaSAABVLAENZAC1_PublicCompany.pdf</td>\n",
       "      <td>Aenza</td>\n",
       "      <td>2025-06-30</td>\n",
       "    </tr>\n",
       "    <tr>\n",
       "      <th>1</th>\n",
       "      <td>Phone</td>\n",
       "      <td>51 1 708 5900</td>\n",
       "      <td>AustralGroupSAABVLAUSTRAC1_PublicCompany (1).pdf</td>\n",
       "      <td>AustralGroup</td>\n",
       "      <td>2025-06-09</td>\n",
       "    </tr>\n",
       "    <tr>\n",
       "      <th>4</th>\n",
       "      <td>Phone</td>\n",
       "      <td>51 1518 4000</td>\n",
       "      <td>PacíficoCompañíadeSegurosyReasegurosBVLPACIFIC...</td>\n",
       "      <td>Pac</td>\n",
       "      <td>2025-06-30</td>\n",
       "    </tr>\n",
       "  </tbody>\n",
       "</table>\n",
       "</div>"
      ],
      "text/plain": [
       "    Type        Contact                                            Archivo  \\\n",
       "0  Phone  51 1 213 0300               AenzaSAABVLAENZAC1_PublicCompany.pdf   \n",
       "1  Phone  51 1 708 5900   AustralGroupSAABVLAUSTRAC1_PublicCompany (1).pdf   \n",
       "4  Phone   51 1518 4000  PacíficoCompañíadeSegurosyReasegurosBVLPACIFIC...   \n",
       "\n",
       "        Empresa       Date  \n",
       "0         Aenza 2025-06-30  \n",
       "1  AustralGroup 2025-06-09  \n",
       "4           Pac 2025-06-30  "
      ]
     },
     "execution_count": 16,
     "metadata": {},
     "output_type": "execute_result"
    }
   ],
   "source": [
    "df_contact[df_contact['Contact'].str.startswith('51')]"
   ]
  },
  {
   "cell_type": "code",
   "execution_count": 20,
   "id": "35e870c0",
   "metadata": {},
   "outputs": [
    {
     "data": {
      "application/vnd.microsoft.datawrangler.viewer.v0+json": {
       "columns": [
        {
         "name": "index",
         "rawType": "int64",
         "type": "integer"
        },
        {
         "name": "Type",
         "rawType": "object",
         "type": "string"
        },
        {
         "name": "Contact",
         "rawType": "object",
         "type": "string"
        },
        {
         "name": "Archivo",
         "rawType": "object",
         "type": "string"
        },
        {
         "name": "Empresa",
         "rawType": "object",
         "type": "string"
        },
        {
         "name": "Date",
         "rawType": "datetime64[ns]",
         "type": "datetime"
        }
       ],
       "ref": "24797aa1-afed-45e3-98fd-3dc2f12efe01",
       "rows": [
        [
         "0",
         "Phone",
         "51 1 213 0300",
         "AenzaSAABVLAENZAC1_PublicCompany.pdf",
         "Aenza",
         "2025-06-30 00:00:00"
        ],
        [
         "1",
         "Phone",
         "51 1 708 5900",
         "AustralGroupSAABVLAUSTRAC1_PublicCompany (1).pdf",
         "AustralGroup",
         "2025-06-09 00:00:00"
        ],
        [
         "4",
         "Phone",
         "51 1518 4000",
         "PacíficoCompañíadeSegurosyReasegurosBVLPACIFIC1_PublicCompany.pdf",
         "Pac",
         "2025-06-30 00:00:00"
        ]
       ],
       "shape": {
        "columns": 5,
        "rows": 3
       }
      },
      "text/html": [
       "<div>\n",
       "<style scoped>\n",
       "    .dataframe tbody tr th:only-of-type {\n",
       "        vertical-align: middle;\n",
       "    }\n",
       "\n",
       "    .dataframe tbody tr th {\n",
       "        vertical-align: top;\n",
       "    }\n",
       "\n",
       "    .dataframe thead th {\n",
       "        text-align: right;\n",
       "    }\n",
       "</style>\n",
       "<table border=\"1\" class=\"dataframe\">\n",
       "  <thead>\n",
       "    <tr style=\"text-align: right;\">\n",
       "      <th></th>\n",
       "      <th>Type</th>\n",
       "      <th>Contact</th>\n",
       "      <th>Archivo</th>\n",
       "      <th>Empresa</th>\n",
       "      <th>Date</th>\n",
       "    </tr>\n",
       "  </thead>\n",
       "  <tbody>\n",
       "    <tr>\n",
       "      <th>0</th>\n",
       "      <td>Phone</td>\n",
       "      <td>51 1 213 0300</td>\n",
       "      <td>AenzaSAABVLAENZAC1_PublicCompany.pdf</td>\n",
       "      <td>Aenza</td>\n",
       "      <td>2025-06-30</td>\n",
       "    </tr>\n",
       "    <tr>\n",
       "      <th>1</th>\n",
       "      <td>Phone</td>\n",
       "      <td>51 1 708 5900</td>\n",
       "      <td>AustralGroupSAABVLAUSTRAC1_PublicCompany (1).pdf</td>\n",
       "      <td>AustralGroup</td>\n",
       "      <td>2025-06-09</td>\n",
       "    </tr>\n",
       "    <tr>\n",
       "      <th>4</th>\n",
       "      <td>Phone</td>\n",
       "      <td>51 1518 4000</td>\n",
       "      <td>PacíficoCompañíadeSegurosyReasegurosBVLPACIFIC...</td>\n",
       "      <td>Pac</td>\n",
       "      <td>2025-06-30</td>\n",
       "    </tr>\n",
       "  </tbody>\n",
       "</table>\n",
       "</div>"
      ],
      "text/plain": [
       "    Type        Contact                                            Archivo  \\\n",
       "0  Phone  51 1 213 0300               AenzaSAABVLAENZAC1_PublicCompany.pdf   \n",
       "1  Phone  51 1 708 5900   AustralGroupSAABVLAUSTRAC1_PublicCompany (1).pdf   \n",
       "4  Phone   51 1518 4000  PacíficoCompañíadeSegurosyReasegurosBVLPACIFIC...   \n",
       "\n",
       "        Empresa       Date  \n",
       "0         Aenza 2025-06-30  \n",
       "1  AustralGroup 2025-06-09  \n",
       "4           Pac 2025-06-30  "
      ]
     },
     "execution_count": 20,
     "metadata": {},
     "output_type": "execute_result"
    }
   ],
   "source": [
    "df_contact[df_contact['Contact'].str.startswith('51') & df_contact['Archivo'].str.endswith('.pdf')]"
   ]
  },
  {
   "cell_type": "code",
   "execution_count": 19,
   "id": "1eca8181",
   "metadata": {},
   "outputs": [
    {
     "data": {
      "application/vnd.microsoft.datawrangler.viewer.v0+json": {
       "columns": [
        {
         "name": "index",
         "rawType": "int64",
         "type": "integer"
        },
        {
         "name": "Type",
         "rawType": "object",
         "type": "string"
        },
        {
         "name": "Contact",
         "rawType": "object",
         "type": "string"
        },
        {
         "name": "Archivo",
         "rawType": "object",
         "type": "string"
        },
        {
         "name": "Empresa",
         "rawType": "object",
         "type": "string"
        },
        {
         "name": "Date",
         "rawType": "datetime64[ns]",
         "type": "datetime"
        }
       ],
       "ref": "8228c598-a353-436d-b7b5-73996b085d39",
       "rows": [
        [
         "0",
         "Phone",
         "51 1 213 0300",
         "AenzaSAABVLAENZAC1_PublicCompany.pdf",
         "Aenza",
         "2025-06-30 00:00:00"
        ],
        [
         "1",
         "Phone",
         "51 1 708 5900",
         "AustralGroupSAABVLAUSTRAC1_PublicCompany (1).pdf",
         "AustralGroup",
         "2025-06-09 00:00:00"
        ],
        [
         "4",
         "Phone",
         "51 1518 4000",
         "PacíficoCompañíadeSegurosyReasegurosBVLPACIFIC1_PublicCompany.pdf",
         "Pac",
         "2025-06-30 00:00:00"
        ]
       ],
       "shape": {
        "columns": 5,
        "rows": 3
       }
      },
      "text/html": [
       "<div>\n",
       "<style scoped>\n",
       "    .dataframe tbody tr th:only-of-type {\n",
       "        vertical-align: middle;\n",
       "    }\n",
       "\n",
       "    .dataframe tbody tr th {\n",
       "        vertical-align: top;\n",
       "    }\n",
       "\n",
       "    .dataframe thead th {\n",
       "        text-align: right;\n",
       "    }\n",
       "</style>\n",
       "<table border=\"1\" class=\"dataframe\">\n",
       "  <thead>\n",
       "    <tr style=\"text-align: right;\">\n",
       "      <th></th>\n",
       "      <th>Type</th>\n",
       "      <th>Contact</th>\n",
       "      <th>Archivo</th>\n",
       "      <th>Empresa</th>\n",
       "      <th>Date</th>\n",
       "    </tr>\n",
       "  </thead>\n",
       "  <tbody>\n",
       "    <tr>\n",
       "      <th>0</th>\n",
       "      <td>Phone</td>\n",
       "      <td>51 1 213 0300</td>\n",
       "      <td>AenzaSAABVLAENZAC1_PublicCompany.pdf</td>\n",
       "      <td>Aenza</td>\n",
       "      <td>2025-06-30</td>\n",
       "    </tr>\n",
       "    <tr>\n",
       "      <th>1</th>\n",
       "      <td>Phone</td>\n",
       "      <td>51 1 708 5900</td>\n",
       "      <td>AustralGroupSAABVLAUSTRAC1_PublicCompany (1).pdf</td>\n",
       "      <td>AustralGroup</td>\n",
       "      <td>2025-06-09</td>\n",
       "    </tr>\n",
       "    <tr>\n",
       "      <th>4</th>\n",
       "      <td>Phone</td>\n",
       "      <td>51 1518 4000</td>\n",
       "      <td>PacíficoCompañíadeSegurosyReasegurosBVLPACIFIC...</td>\n",
       "      <td>Pac</td>\n",
       "      <td>2025-06-30</td>\n",
       "    </tr>\n",
       "  </tbody>\n",
       "</table>\n",
       "</div>"
      ],
      "text/plain": [
       "    Type        Contact                                            Archivo  \\\n",
       "0  Phone  51 1 213 0300               AenzaSAABVLAENZAC1_PublicCompany.pdf   \n",
       "1  Phone  51 1 708 5900   AustralGroupSAABVLAUSTRAC1_PublicCompany (1).pdf   \n",
       "4  Phone   51 1518 4000  PacíficoCompañíadeSegurosyReasegurosBVLPACIFIC...   \n",
       "\n",
       "        Empresa       Date  \n",
       "0         Aenza 2025-06-30  \n",
       "1  AustralGroup 2025-06-09  \n",
       "4           Pac 2025-06-30  "
      ]
     },
     "execution_count": 19,
     "metadata": {},
     "output_type": "execute_result"
    }
   ],
   "source": [
    "df_contact[df_contact['Contact'].str[:2] == '51']"
   ]
  },
  {
   "cell_type": "code",
   "execution_count": 21,
   "id": "499b75d4",
   "metadata": {},
   "outputs": [
    {
     "data": {
      "application/vnd.microsoft.datawrangler.viewer.v0+json": {
       "columns": [
        {
         "name": "index",
         "rawType": "int64",
         "type": "integer"
        },
        {
         "name": "Type",
         "rawType": "object",
         "type": "string"
        },
        {
         "name": "Contact",
         "rawType": "object",
         "type": "string"
        },
        {
         "name": "Archivo",
         "rawType": "object",
         "type": "string"
        },
        {
         "name": "Empresa",
         "rawType": "object",
         "type": "string"
        },
        {
         "name": "Date",
         "rawType": "datetime64[ns]",
         "type": "datetime"
        }
       ],
       "ref": "9951559b-5e57-4d71-a6b1-d79cd3609cae",
       "rows": [
        [
         "0",
         "Phone",
         "51 1 213 0300",
         "AenzaSAABVLAENZAC1_PublicCompany.pdf",
         "Aenza",
         "2025-06-30 00:00:00"
        ],
        [
         "1",
         "Phone",
         "51 1 708 5900",
         "AustralGroupSAABVLAUSTRAC1_PublicCompany (1).pdf",
         "AustralGroup",
         "2025-06-09 00:00:00"
        ],
        [
         "4",
         "Phone",
         "51 1518 4000",
         "PacíficoCompañíadeSegurosyReasegurosBVLPACIFIC1_PublicCompany.pdf",
         "Pac",
         "2025-06-30 00:00:00"
        ]
       ],
       "shape": {
        "columns": 5,
        "rows": 3
       }
      },
      "text/html": [
       "<div>\n",
       "<style scoped>\n",
       "    .dataframe tbody tr th:only-of-type {\n",
       "        vertical-align: middle;\n",
       "    }\n",
       "\n",
       "    .dataframe tbody tr th {\n",
       "        vertical-align: top;\n",
       "    }\n",
       "\n",
       "    .dataframe thead th {\n",
       "        text-align: right;\n",
       "    }\n",
       "</style>\n",
       "<table border=\"1\" class=\"dataframe\">\n",
       "  <thead>\n",
       "    <tr style=\"text-align: right;\">\n",
       "      <th></th>\n",
       "      <th>Type</th>\n",
       "      <th>Contact</th>\n",
       "      <th>Archivo</th>\n",
       "      <th>Empresa</th>\n",
       "      <th>Date</th>\n",
       "    </tr>\n",
       "  </thead>\n",
       "  <tbody>\n",
       "    <tr>\n",
       "      <th>0</th>\n",
       "      <td>Phone</td>\n",
       "      <td>51 1 213 0300</td>\n",
       "      <td>AenzaSAABVLAENZAC1_PublicCompany.pdf</td>\n",
       "      <td>Aenza</td>\n",
       "      <td>2025-06-30</td>\n",
       "    </tr>\n",
       "    <tr>\n",
       "      <th>1</th>\n",
       "      <td>Phone</td>\n",
       "      <td>51 1 708 5900</td>\n",
       "      <td>AustralGroupSAABVLAUSTRAC1_PublicCompany (1).pdf</td>\n",
       "      <td>AustralGroup</td>\n",
       "      <td>2025-06-09</td>\n",
       "    </tr>\n",
       "    <tr>\n",
       "      <th>4</th>\n",
       "      <td>Phone</td>\n",
       "      <td>51 1518 4000</td>\n",
       "      <td>PacíficoCompañíadeSegurosyReasegurosBVLPACIFIC...</td>\n",
       "      <td>Pac</td>\n",
       "      <td>2025-06-30</td>\n",
       "    </tr>\n",
       "  </tbody>\n",
       "</table>\n",
       "</div>"
      ],
      "text/plain": [
       "    Type        Contact                                            Archivo  \\\n",
       "0  Phone  51 1 213 0300               AenzaSAABVLAENZAC1_PublicCompany.pdf   \n",
       "1  Phone  51 1 708 5900   AustralGroupSAABVLAUSTRAC1_PublicCompany (1).pdf   \n",
       "4  Phone   51 1518 4000  PacíficoCompañíadeSegurosyReasegurosBVLPACIFIC...   \n",
       "\n",
       "        Empresa       Date  \n",
       "0         Aenza 2025-06-30  \n",
       "1  AustralGroup 2025-06-09  \n",
       "4           Pac 2025-06-30  "
      ]
     },
     "execution_count": 21,
     "metadata": {},
     "output_type": "execute_result"
    }
   ],
   "source": [
    "df_contact[\n",
    "    df_contact['Contact'].str.contains(r'^51', regex=True) &\n",
    "    df_contact['Archivo'].str.contains(r'\\.pdf$', regex=True)\n",
    "]"
   ]
  },
  {
   "cell_type": "markdown",
   "id": "edcc601b",
   "metadata": {},
   "source": [
    "Código\tSignificado\n",
    "\n",
    "200\t✅ OK – Todo salió bien.\n",
    "\n",
    "400\t❌ Bad Request – Error en tu solicitud.\n",
    "\n",
    "401\t❌ Unauthorized – No tienes acceso (falta token).\n",
    "\n",
    "403\t❌ Forbidden – Prohibido.\n",
    "\n",
    "404\t❌ Not Found – La URL no existe.\n",
    "\n",
    "500\t❌ Server Error – Fallo en el servidor."
   ]
  },
  {
   "cell_type": "code",
   "execution_count": 29,
   "id": "8b7f5000",
   "metadata": {},
   "outputs": [
    {
     "name": "stdout",
     "output_type": "stream",
     "text": [
      "    Moneda    Tasa\n",
      "0      USD    1.00\n",
      "1      AED    3.67\n",
      "2      AFN   70.20\n",
      "3      ALL   83.70\n",
      "4      AMD  384.46\n",
      "..     ...     ...\n",
      "158    XPF  101.49\n",
      "159    YER  242.38\n",
      "160    ZAR   17.74\n",
      "161    ZMW   23.79\n",
      "162    ZWL   26.95\n",
      "\n",
      "[163 rows x 2 columns]\n"
     ]
    }
   ],
   "source": [
    "import requests\n",
    "import pandas as pd\n",
    "\n",
    "url = \"https://api.exchangerate-api.com/v4/latest/USD\"\n",
    "response = requests.get(url)\n",
    "\n",
    "if response.status_code == 200:\n",
    "    data = response.json()\n",
    "    rates = data[\"rates\"]\n",
    "    \n",
    "    df = pd.DataFrame(rates.items(), columns=[\"Moneda\", \"Tasa\"])\n",
    "    print(df)\n",
    "else:\n",
    "    print(f\"Error {response.status_code}\")\n",
    "\n"
   ]
  }
 ],
 "metadata": {
  "kernelspec": {
   "display_name": "Python 3",
   "language": "python",
   "name": "python3"
  },
  "language_info": {
   "codemirror_mode": {
    "name": "ipython",
    "version": 3
   },
   "file_extension": ".py",
   "mimetype": "text/x-python",
   "name": "python",
   "nbconvert_exporter": "python",
   "pygments_lexer": "ipython3",
   "version": "3.13.1"
  }
 },
 "nbformat": 4,
 "nbformat_minor": 5
}
